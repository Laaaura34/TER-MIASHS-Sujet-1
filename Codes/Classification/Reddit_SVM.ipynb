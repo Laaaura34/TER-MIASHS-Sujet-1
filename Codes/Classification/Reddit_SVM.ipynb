{
 "cells": [
  {
   "cell_type": "code",
   "execution_count": 1,
   "metadata": {},
   "outputs": [],
   "source": [
    "import numpy as np\n",
    "import pandas as pd\n",
    "from sklearn import svm\n",
    "import matplotlib.pyplot as plt\n",
    "from sklearn.model_selection import RandomizedSearchCV\n",
    "from sklearn.model_selection import train_test_split\n",
    "import pandas as pd\n",
    "import numpy as np\n",
    "import pandas as pd\n",
    "import numpy as np\n",
    "from nltk.tokenize import word_tokenize\n",
    "from nltk import pos_tag\n",
    "from nltk.corpus import stopwords\n",
    "from nltk.stem import WordNetLemmatizer\n",
    "from sklearn.preprocessing import LabelEncoder\n",
    "from collections import defaultdict\n",
    "from nltk.corpus import wordnet as wn\n",
    "from sklearn.feature_extraction.text import TfidfVectorizer\n",
    "from sklearn import model_selection, naive_bayes, svm\n",
    "from sklearn.metrics import accuracy_score"
   ]
  },
  {
   "cell_type": "code",
   "execution_count": null,
   "metadata": {},
   "outputs": [],
   "source": [
    "# https://zestedesavoir.com/tutoriels/1760/un-peu-de-machine-learning-avec-les-svm/\n",
    "# https://ichi.pro/fr/guide-du-debutant-sur-la-classification-de-texte-avec-scikit-learn-109003449397050\n",
    "# https://medium.com/@bedigunjit/simple-guide-to-text-classification-nlp-using-svm-and-naive-bayes-with-python-421db3a72d34"
   ]
  },
  {
   "cell_type": "code",
   "execution_count": 2,
   "metadata": {},
   "outputs": [
    {
     "data": {
      "text/html": [
       "<div>\n",
       "<style scoped>\n",
       "    .dataframe tbody tr th:only-of-type {\n",
       "        vertical-align: middle;\n",
       "    }\n",
       "\n",
       "    .dataframe tbody tr th {\n",
       "        vertical-align: top;\n",
       "    }\n",
       "\n",
       "    .dataframe thead th {\n",
       "        text-align: right;\n",
       "    }\n",
       "</style>\n",
       "<table border=\"1\" class=\"dataframe\">\n",
       "  <thead>\n",
       "    <tr style=\"text-align: right;\">\n",
       "      <th></th>\n",
       "      <th>suicide</th>\n",
       "      <th>subreddit</th>\n",
       "      <th>content</th>\n",
       "    </tr>\n",
       "  </thead>\n",
       "  <tbody>\n",
       "    <tr>\n",
       "      <th>0</th>\n",
       "      <td>False</td>\n",
       "      <td>AskReddit</td>\n",
       "      <td>Suicide survivors of reddit, what's one thing ...</td>\n",
       "    </tr>\n",
       "    <tr>\n",
       "      <th>1</th>\n",
       "      <td>False</td>\n",
       "      <td>AskReddit</td>\n",
       "      <td>Suicide survivors of Reddit, are you happier n...</td>\n",
       "    </tr>\n",
       "    <tr>\n",
       "      <th>2</th>\n",
       "      <td>False</td>\n",
       "      <td>AskReddit</td>\n",
       "      <td>Suicide survivors of Reddit, what went through...</td>\n",
       "    </tr>\n",
       "    <tr>\n",
       "      <th>3</th>\n",
       "      <td>False</td>\n",
       "      <td>AskReddit</td>\n",
       "      <td>[Serious] Suicide survivors of reddit, what we...</td>\n",
       "    </tr>\n",
       "    <tr>\n",
       "      <th>4</th>\n",
       "      <td>False</td>\n",
       "      <td>AskReddit</td>\n",
       "      <td>Suicide survivors of Reddit. What were your as...</td>\n",
       "    </tr>\n",
       "    <tr>\n",
       "      <th>...</th>\n",
       "      <td>...</td>\n",
       "      <td>...</td>\n",
       "      <td>...</td>\n",
       "    </tr>\n",
       "    <tr>\n",
       "      <th>6452</th>\n",
       "      <td>False</td>\n",
       "      <td>happy</td>\n",
       "      <td>We are all the heroes\\r\\nAs kids, many of us h...</td>\n",
       "    </tr>\n",
       "    <tr>\n",
       "      <th>6453</th>\n",
       "      <td>False</td>\n",
       "      <td>happy</td>\n",
       "      <td>Kicked ass on an interview for an ideal job to...</td>\n",
       "    </tr>\n",
       "    <tr>\n",
       "      <th>6454</th>\n",
       "      <td>False</td>\n",
       "      <td>happy</td>\n",
       "      <td>I started a meadery!\\r\\nI'm helping a friend f...</td>\n",
       "    </tr>\n",
       "    <tr>\n",
       "      <th>6455</th>\n",
       "      <td>False</td>\n",
       "      <td>happy</td>\n",
       "      <td>Being courteous is easy!\\r\\n</td>\n",
       "    </tr>\n",
       "    <tr>\n",
       "      <th>6456</th>\n",
       "      <td>False</td>\n",
       "      <td>happy</td>\n",
       "      <td>Today is a great day for me.\\r\\nToday is a big...</td>\n",
       "    </tr>\n",
       "  </tbody>\n",
       "</table>\n",
       "<p>6457 rows × 3 columns</p>\n",
       "</div>"
      ],
      "text/plain": [
       "      suicide  subreddit                                            content\n",
       "0       False  AskReddit  Suicide survivors of reddit, what's one thing ...\n",
       "1       False  AskReddit  Suicide survivors of Reddit, are you happier n...\n",
       "2       False  AskReddit  Suicide survivors of Reddit, what went through...\n",
       "3       False  AskReddit  [Serious] Suicide survivors of reddit, what we...\n",
       "4       False  AskReddit  Suicide survivors of Reddit. What were your as...\n",
       "...       ...        ...                                                ...\n",
       "6452    False      happy  We are all the heroes\\r\\nAs kids, many of us h...\n",
       "6453    False      happy  Kicked ass on an interview for an ideal job to...\n",
       "6454    False      happy  I started a meadery!\\r\\nI'm helping a friend f...\n",
       "6455    False      happy                       Being courteous is easy!\\r\\n\n",
       "6456    False      happy  Today is a great day for me.\\r\\nToday is a big...\n",
       "\n",
       "[6457 rows x 3 columns]"
      ]
     },
     "execution_count": 2,
     "metadata": {},
     "output_type": "execute_result"
    }
   ],
   "source": [
    "Corpus = pd.read_csv(\"donnees_reddit_pas_TS.csv\")\n",
    "#Corpus = pd.read_csv(\"test.csv\") A mettre comme ça parce que moi j'avais un bugg (et ca separe les mots de cotent par des ,)\n",
    "Corpus"
   ]
  },
  {
   "cell_type": "markdown",
   "metadata": {},
   "source": [
    "# Visualisation"
   ]
  },
  {
   "cell_type": "code",
   "execution_count": 75,
   "metadata": {},
   "outputs": [
    {
     "data": {
      "image/png": "[encoded data removed]",
      "text/plain": [
       "<Figure size 432x288 with 1 Axes>"
      ]
     },
     "metadata": {
      "needs_background": "light"
     },
     "output_type": "display_data"
    }
   ],
   "source": [
    "import seaborn as sns\n",
    "Corpus['subreddit'].value_counts()\n",
    "sns.countplot(x='subreddit', data=Corpus, palette= \"hls\")\n",
    "plt.title(\"nombre de textes par catégorie\")\n",
    "plt.show()"
   ]
  },
  {
   "cell_type": "code",
   "execution_count": null,
   "metadata": {},
   "outputs": [],
   "source": [
    "import nltk\n",
    "nltk.download()"
   ]
  },
  {
   "cell_type": "markdown",
   "metadata": {},
   "source": [
    "# Traitement de la données texte pour le model"
   ]
  },
  {
   "cell_type": "code",
   "execution_count": 3,
   "metadata": {},
   "outputs": [],
   "source": [
    "# Step - b : Change all the text to lower case. This is required as python interprets 'dog' and 'DOG' differently\n",
    "Corpus['content'] = [entry.lower() for entry in Corpus['content']]\n",
    "# Step - c : Tokenization : In this each entry in the corpus will be broken into set of words\n",
    "Corpus['content']= [word_tokenize(entry) for entry in Corpus['content']]\n",
    "# Step - d : Remove Stop words, Non-Numeric and perfom Word Stemming/Lemmenting.\n",
    "# WordNetLemmatizer requires Pos tags to understand if the word is noun or verb or adjective etc. By default it is set to Noun\n",
    "tag_map = defaultdict(lambda : wn.NOUN)\n",
    "tag_map['J'] = wn.ADJ\n",
    "tag_map['V'] = wn.VERB\n",
    "tag_map['R'] = wn.ADV\n",
    "for index,entry in enumerate(Corpus['content']):\n",
    "    # Declaring Empty List to store the words that follow the rules for this step\n",
    "    Final_words = []\n",
    "    # Initializing WordNetLemmatizer()\n",
    "    word_Lemmatized = WordNetLemmatizer()\n",
    "    # pos_tag function below will provide the 'tag' i.e if the word is Noun(N) or Verb(V) or something else.\n",
    "    for word, tag in pos_tag(entry):\n",
    "        # Below condition is to check for Stop words and consider only alphabets\n",
    "        if word not in stopwords.words('english') and word.isalpha():\n",
    "            word_Final = word_Lemmatized.lemmatize(word,tag_map[tag[0]])\n",
    "            Final_words.append(word_Final)\n",
    "    # The final processed set of words for each iteration will be stored in 'text_final'\n",
    "    Corpus.loc[index,'text_final'] = str(Final_words)"
   ]
  },
  {
   "cell_type": "code",
   "execution_count": 4,
   "metadata": {},
   "outputs": [
    {
     "data": {
      "text/html": [
       "<div>\n",
       "<style scoped>\n",
       "    .dataframe tbody tr th:only-of-type {\n",
       "        vertical-align: middle;\n",
       "    }\n",
       "\n",
       "    .dataframe tbody tr th {\n",
       "        vertical-align: top;\n",
       "    }\n",
       "\n",
       "    .dataframe thead th {\n",
       "        text-align: right;\n",
       "    }\n",
       "</style>\n",
       "<table border=\"1\" class=\"dataframe\">\n",
       "  <thead>\n",
       "    <tr style=\"text-align: right;\">\n",
       "      <th></th>\n",
       "      <th>suicide</th>\n",
       "      <th>subreddit</th>\n",
       "      <th>content</th>\n",
       "      <th>text_final</th>\n",
       "    </tr>\n",
       "  </thead>\n",
       "  <tbody>\n",
       "    <tr>\n",
       "      <th>0</th>\n",
       "      <td>False</td>\n",
       "      <td>AskReddit</td>\n",
       "      <td>[suicide, survivors, of, reddit, ,, what, 's, ...</td>\n",
       "      <td>['suicide', 'survivor', 'reddit', 'one', 'thin...</td>\n",
       "    </tr>\n",
       "    <tr>\n",
       "      <th>1</th>\n",
       "      <td>False</td>\n",
       "      <td>AskReddit</td>\n",
       "      <td>[suicide, survivors, of, reddit, ,, are, you, ...</td>\n",
       "      <td>['suicide', 'survivor', 'reddit', 'happy', 'se...</td>\n",
       "    </tr>\n",
       "    <tr>\n",
       "      <th>2</th>\n",
       "      <td>False</td>\n",
       "      <td>AskReddit</td>\n",
       "      <td>[suicide, survivors, of, reddit, ,, what, went...</td>\n",
       "      <td>['suicide', 'survivor', 'reddit', 'go', 'mind'...</td>\n",
       "    </tr>\n",
       "    <tr>\n",
       "      <th>3</th>\n",
       "      <td>False</td>\n",
       "      <td>AskReddit</td>\n",
       "      <td>[[, serious, ], suicide, survivors, of, reddit...</td>\n",
       "      <td>['serious', 'suicide', 'survivor', 'reddit', '...</td>\n",
       "    </tr>\n",
       "    <tr>\n",
       "      <th>4</th>\n",
       "      <td>False</td>\n",
       "      <td>AskReddit</td>\n",
       "      <td>[suicide, survivors, of, reddit, ., what, were...</td>\n",
       "      <td>['suicide', 'survivor', 'reddit', 'assumed', '...</td>\n",
       "    </tr>\n",
       "    <tr>\n",
       "      <th>...</th>\n",
       "      <td>...</td>\n",
       "      <td>...</td>\n",
       "      <td>...</td>\n",
       "      <td>...</td>\n",
       "    </tr>\n",
       "    <tr>\n",
       "      <th>6452</th>\n",
       "      <td>False</td>\n",
       "      <td>happy</td>\n",
       "      <td>[we, are, all, the, heroes, as, kids, ,, many,...</td>\n",
       "      <td>['hero', 'kid', 'many', 'u', 'dream', 'superpo...</td>\n",
       "    </tr>\n",
       "    <tr>\n",
       "      <th>6453</th>\n",
       "      <td>False</td>\n",
       "      <td>happy</td>\n",
       "      <td>[kicked, ass, on, an, interview, for, an, idea...</td>\n",
       "      <td>['kick', 'as', 'interview', 'ideal', 'job', 't...</td>\n",
       "    </tr>\n",
       "    <tr>\n",
       "      <th>6454</th>\n",
       "      <td>False</td>\n",
       "      <td>happy</td>\n",
       "      <td>[i, started, a, meadery, !, i, 'm, helping, a,...</td>\n",
       "      <td>['start', 'meadery', 'help', 'friend', 'fulfil...</td>\n",
       "    </tr>\n",
       "    <tr>\n",
       "      <th>6455</th>\n",
       "      <td>False</td>\n",
       "      <td>happy</td>\n",
       "      <td>[being, courteous, is, easy, !]</td>\n",
       "      <td>['courteous', 'easy']</td>\n",
       "    </tr>\n",
       "    <tr>\n",
       "      <th>6456</th>\n",
       "      <td>False</td>\n",
       "      <td>happy</td>\n",
       "      <td>[today, is, a, great, day, for, me, ., today, ...</td>\n",
       "      <td>['today', 'great', 'day', 'today', 'big', 'day...</td>\n",
       "    </tr>\n",
       "  </tbody>\n",
       "</table>\n",
       "<p>6457 rows × 4 columns</p>\n",
       "</div>"
      ],
      "text/plain": [
       "      suicide  subreddit                                            content  \\\n",
       "0       False  AskReddit  [suicide, survivors, of, reddit, ,, what, 's, ...   \n",
       "1       False  AskReddit  [suicide, survivors, of, reddit, ,, are, you, ...   \n",
       "2       False  AskReddit  [suicide, survivors, of, reddit, ,, what, went...   \n",
       "3       False  AskReddit  [[, serious, ], suicide, survivors, of, reddit...   \n",
       "4       False  AskReddit  [suicide, survivors, of, reddit, ., what, were...   \n",
       "...       ...        ...                                                ...   \n",
       "6452    False      happy  [we, are, all, the, heroes, as, kids, ,, many,...   \n",
       "6453    False      happy  [kicked, ass, on, an, interview, for, an, idea...   \n",
       "6454    False      happy  [i, started, a, meadery, !, i, 'm, helping, a,...   \n",
       "6455    False      happy                    [being, courteous, is, easy, !]   \n",
       "6456    False      happy  [today, is, a, great, day, for, me, ., today, ...   \n",
       "\n",
       "                                             text_final  \n",
       "0     ['suicide', 'survivor', 'reddit', 'one', 'thin...  \n",
       "1     ['suicide', 'survivor', 'reddit', 'happy', 'se...  \n",
       "2     ['suicide', 'survivor', 'reddit', 'go', 'mind'...  \n",
       "3     ['serious', 'suicide', 'survivor', 'reddit', '...  \n",
       "4     ['suicide', 'survivor', 'reddit', 'assumed', '...  \n",
       "...                                                 ...  \n",
       "6452  ['hero', 'kid', 'many', 'u', 'dream', 'superpo...  \n",
       "6453  ['kick', 'as', 'interview', 'ideal', 'job', 't...  \n",
       "6454  ['start', 'meadery', 'help', 'friend', 'fulfil...  \n",
       "6455                              ['courteous', 'easy']  \n",
       "6456  ['today', 'great', 'day', 'today', 'big', 'day...  \n",
       "\n",
       "[6457 rows x 4 columns]"
      ]
     },
     "execution_count": 4,
     "metadata": {},
     "output_type": "execute_result"
    }
   ],
   "source": [
    "Corpus"
   ]
  },
  {
   "cell_type": "code",
   "execution_count": 74,
   "metadata": {},
   "outputs": [],
   "source": [
    "Train_X, Test_X, Train_Y, Test_Y = model_selection.train_test_split(Corpus['text_final'],Corpus['subreddit'],test_size=0.3)"
   ]
  },
  {
   "cell_type": "code",
   "execution_count": 91,
   "metadata": {},
   "outputs": [],
   "source": [
    "#transforme les string en numérique pour que le model puisse prendre les données \n",
    "Encoder = LabelEncoder()\n",
    "Train_Y = Encoder.fit_transform(Train_Y)\n",
    "Test_Y = Encoder.fit_transform(Test_Y)"
   ]
  },
  {
   "cell_type": "code",
   "execution_count": 92,
   "metadata": {},
   "outputs": [],
   "source": [
    "#These will now contain for each row a list of unique integer number and its associated importance \n",
    "#as calculated by TF-IDF.\n",
    "Tfidf_vect = TfidfVectorizer(max_features=5000) #Their will be maximum of 5000 unique words/features as we have set parameter max_features=5000.\n",
    "\n",
    "Tfidf_vect.fit(Corpus['text_final'])\n",
    "Train_X_Tfidf = Tfidf_vect.transform(Train_X)\n",
    "Test_X_Tfidf = Tfidf_vect.transform(Test_X)"
   ]
  },
  {
   "cell_type": "code",
   "execution_count": 122,
   "metadata": {},
   "outputs": [
    {
     "name": "stdout",
     "output_type": "stream",
     "text": [
      "  (58, 0)\t0.06318753913177672\n"
     ]
    }
   ],
   "source": [
    "#data vectorisé\n",
    "#1: Row number of ‘Train_X_Tfidf’, \n",
    "#2: Unique Integer number of each word in the first row, \n",
    "#3: Score calculated by TF-IDF Vectorizer\n",
    "print(Test_X_Tfidf[:,0])"
   ]
  },
  {
   "cell_type": "code",
   "execution_count": 9,
   "metadata": {},
   "outputs": [
    {
     "name": "stdout",
     "output_type": "stream",
     "text": [
      "{'suicide': 4318, 'survivor': 4357, 'reddit': 3634, 'one': 3096, 'thing': 4473, 'would': 4959, 'tell': 4426, 'people': 3242, 'consider': 947, 'wish': 4922, 'someone': 4122, 'time': 4509, 'happy': 2071, 'second': 3905, 'chance': 716, 'regret': 3657, 'try': 4611, 'end': 1491, 'life': 2601, 'succeed': 4303, 'advice': 101, 'anyone': 214, 'struggle': 4276, 'depression': 1198, 'devil': 1238, 'go': 1958, 'mind': 2839, 'commit': 864, 'act': 56, 'stop': 4244, 'never': 2987, 'really': 3605, 'submit': 4291, 'anything': 215, 'upvotes': 4729, 'today': 4523, 'get': 1937, 'sit': 4041, 'apartment': 221, 'last': 2539, 'night': 2999, 'around': 262, 'pm': 3341, 'receive': 3616, 'phone': 3286, 'call': 633, 'mother': 2900, 'even': 1574, 'horrible': 2181, 'feeling': 1719, 'something': 4123, 'bad': 363, 'happen': 2064, 'like': 2611, 'hear': 2104, 'voice': 4813, 'break': 549, 'news': 2992, 'extremely': 1658, 'close': 809, 'uncle': 4652, 'son': 4128, 'mom': 2878, 'rather': 3583, 'brother': 574, 'take': 4387, 'shoot': 3992, 'heart': 2107, 'know': 2517, 'tough': 4549, 'situation': 4043, 'recently': 3618, 'year': 4978, 'relationship': 3670, 'fiance': 1730, 'suspect': 4358, 'serious': 3940, 'say': 3866, 'practically': 3395, 'raise': 3568, 'figure': 1739, 'old': 3093, 'sister': 4040, 'watch': 4848, 'closely': 811, 'make': 2709, 'stay': 4222, 'parent': 3198, 'house': 2193, 'week': 4867, 'right': 3778, 'sure': 4341, 'monitor': 2885, 'every': 1579, 'move': 2913, 'concerned': 911, 'see': 3914, 'doctor': 1331, 'therapist': 4465, 'well': 4876, 'follow': 1798, 'course': 1028, 'past': 3217, 'initial': 2323, 'seem': 3917, 'fine': 1751, 'always': 167, 'check': 736, 'eventually': 1577, 'begin': 421, 'home': 2161, 'reassure': 3613, 'much': 2916, 'medication': 2786, 'help': 2122, 'tremendously': 4594, 'great': 2004, 'progress': 3473, 'however': 2196, 'next': 2993, 'door': 1344, 'neighbor': 2970, 'police': 3350, 'car': 656, 'ambulance': 174, 'fell': 1721, 'floor': 1783, 'rush': 3828, 'meet': 2794, 'dozen': 1362, 'friend': 1858, 'apparently': 229, 'collapse': 841, 'ground': 2022, 'utter': 4745, 'sorry': 4137, 'loss': 2670, 'first': 1756, 'put': 3535, 'piece': 3298, 'together': 4526, 'report': 3712, 'account': 36, 'look': 2661, 'cell': 693, 'find': 1749, 'lay': 2553, 'bed': 415, 'shot': 3998, 'die': 1249, 'instantly': 2353, 'leave': 2573, 'note': 3022, 'live': 2636, 'clean': 793, 'long': 2658, 'shock': 3990, 'real': 3598, 'want': 4834, 'exactly': 1592, 'obviously': 3068, 'everyone': 1582, 'different': 1253, 'reason': 3609, 'thought': 4481, 'explain': 1637, 'point': 3346, 'also': 162, 'survive': 4356, 'loved': 2677, 'lose': 2667, 'finance': 1746, 'attempt': 313, 'money': 2884, 'final': 1744, 'moment': 2879, 'run': 3824, 'head': 2093, 'fairly': 1677, 'personal': 3268, 'question': 3545, 'im': 2239, 'felt': 1723, 'come': 853, 'flood': 1782, 'realise': 3600, 'decision': 1145, 'nsfw': 3036, 'story': 4248, 'best': 447, 'way': 4852, 'talk': 4392, 'inspire': 2344, 'thread': 4484, 'http': 2198, 'specifically': 4162, 'comment': 862, 'think': 4474, 'suppose': 4339, 'change': 717, 'could': 1014, 'describe': 1205, 'chain': 707, 'event': 1576, 'failed': 1672, 'affect': 109, 'conscious': 939, 'realize': 3604, 'goodbye': 1968, 'lead': 2559, 'experience': 1633, 'cop': 996, 'grief': 2011, 'edit': 1431, 'originally': 3129, 'mean': 2771, 'somebody': 4119, 'interesting': 2382, 'side': 4011, 'dear': 1133, 'person': 3266, 'cope': 997, 'dive': 1321, 'sort': 4138, 'collective': 845, 'wisdom': 4919, 'others': 3131, 'feel': 1718, 'everything': 1583, 'behind': 428, 'write': 4965, 'suicidal': 4317, 'compare': 874, 'harm': 2080, 'tip': 4516, 'etc': 1563, 'process': 3453, 'need': 2962, 'keep': 2487, 'term': 4441, 'forward': 1827, 'wake': 4825, 'save': 3863, 'depress': 1195, 'possibly': 3379, 'contemplate': 965, 'drive': 1386, 'edge': 1430, 'ever': 1578, 'beat': 408, 'urge': 4731, 'realisation': 3599, 'tendency': 4436, 'still': 4232, 'effect': 1435, 'kill': 2496, 'push': 3532, 'glad': 1949, 'alive': 149, 'witness': 4928, 'world': 4948, 'psychologist': 3512, 'psychiatrist': 3508, 'state': 4217, 'mission': 2860, 'impulse': 2269, 'grateful': 1999, 'previous': 3425, 'self': 3923, 'whats': 4885, 'okay': 3092, 'let': 2590, 'plan': 3315, 'hope': 2174, 'back': 357, 'track': 4558, 'since': 4032, 'outlook': 3145, 'mental': 2804, 'trigger': 4600, 'do': 1328, 'death': 1135, 'easier': 1416, 'month': 2890, 'day': 1123, 'hey': 2132, 'treat': 4590, 'differently': 1255, 'number': 3040, 'scary': 3875, 'part': 3202, 'worth': 4955, 'good': 1967, 'episode': 1539, 'message': 2813, 'suffer': 4311, 'teach': 4407, 'knew': 2512, 'include': 2282, 'til': 4506, 'opposite': 3110, 'joy': 2465, 'another': 202, 'fortune': 1825, 'buddhism': 586, 'large': 2536, 'dose': 1350, 'patient': 3225, 'optimistic': 3114, 'socially': 4102, 'engage': 1502, 'science': 3886, 'heaven': 2112, 'secret': 3908, 'flourish': 1786, 'learning': 2569, 'concept': 909, 'give': 1948, 'idea': 2223, 'use': 4736, 'emotion': 1471, 'build': 591, 'everyday': 1581, 'choice': 761, 'believe': 431, 'lucky': 2686, 'unexpected': 4672, 'whilst': 4893, 'therefore': 4468, 'miss': 2858, 'opportunity': 3108, 'ca': 622, 'motivate': 2902, 'pursue': 3530, 'interest': 2380, 'spend': 4167, 'laptop': 2535, 'facebook': 1663, 'guy': 2042, 'digital': 1259, 'beneficial': 442, 'center': 695, 'warmth': 4839, 'cheer': 739, 'spread': 4191, 'love': 2676, 'work': 4939, 'avoidance': 341, 'lately': 2543, 'major': 2707, 'project': 3476, 'reach': 3590, 'familiar': 1683, 'fortunately': 1824, 'enough': 1515, 'recognize': 3624, 'quick': 3546, 'guide': 2034, 'mentor': 2808, 'improve': 2266, 'satisfaction': 3858, 'useful': 4738, 'skill': 4048, 'transfer': 4575, 'effectively': 1437, 'water': 4850, 'without': 4927, 'doubt': 1353, 'across': 55, 'perhaps': 3256, 'simple': 4027, 'explanation': 1638, 'value': 4757, 'education': 1433, 'escape': 1551, 'cycle': 1100, 'fulfillment': 1880, 'goal': 1959, 'derive': 1203, 'happiness': 2070, 'bliss': 489, 'avoid': 340, 'easy': 1420, 'deep': 1154, 'hold': 2156, 'amount': 179, 'reduce': 3638, 'entertainment': 1522, 'allow': 152, 'practice': 3396, 'optimist': 3113, 'art': 267, 'flow': 1787, 'maximize': 2763, 'brain': 543, 'advantage': 98, 'teacher': 4408, 'kid': 2494, 'hate': 2087, 'test': 4448, 'measure': 2779, 'rational': 3585, 'standard': 4208, 'iq': 2419, 'many': 2730, 'level': 2593, 'least': 2572, 'little': 2635, 'quality': 3539, 'thinking': 4476, 'overcome': 3150, 'start': 4212, 'meaningful': 2773, 'pleasurable': 3335, 'joyful': 2466, 'listen': 2628, 'soft': 4107, 'relate': 3667, 'less': 2587, 'small': 4073, 'conversation': 981, 'existential': 1625, 'individual': 2300, 'new': 2989, 'rude': 3820, 'general': 1919, 'far': 1692, 'blame': 477, 'wrong': 4968, 'ask': 279, 'produce': 3458, 'certain': 702, 'response': 3741, 'harmony': 2082, 'sign': 4015, 'luxury': 2691, 'already': 160, 'daily': 1105, 'basis': 390, 'mindset': 2843, 'appreciation': 241, 'five': 1762, 'activity': 61, 'minute': 2851, 'likely': 2613, 'wonder': 4933, 'longevity': 2660, 'late': 2542, 'care': 661, 'body': 505, 'count': 1019, 'study': 4281, 'gene': 1918, 'expression': 1647, 'meditation': 2792, 'training': 4571, 'show': 4002, 'disorder': 1306, 'prior': 3437, 'clinical': 806, 'american': 176, 'association': 296, 'intervention': 2395, 'learn': 2566, 'naturally': 2950, 'pessimistic': 3274, 'positivity': 3374, 'positive': 3372, 'young': 4991, 'adult': 93, 'sense': 3932, 'negative': 2966, 'key': 2490, 'scientific': 3887, 'honest': 2166, 'lean': 2564, 'beyond': 452, 'men': 2803, 'gut': 2041, 'insecurity': 2335, 'may': 2765, 'cause': 682, 'approach': 244, 'david': 1121, 'condition': 917, 'thousand': 4483, 'fight': 1737, 'survival': 4355, 'majority': 2708, 'choose': 763, 'require': 3717, 'minimal': 2847, 'risk': 3784, 'maintain': 2705, 'false': 1681, 'illusion': 2238, 'safe': 3837, 'secure': 3911, 'become': 413, 'comfortable': 857, 'complacency': 887, 'fear': 1710, 'insightful': 2339, 'often': 3087, 'uncertainty': 4651, 'force': 1808, 'boundary': 531, 'comfort': 856, 'zone': 4998, 'success': 4304, 'depend': 1190, 'ability': 3, 'reward': 3768, 'step': 4230, 'outside': 3147, 'screw': 3894, 'crucial': 1069, 'charm': 729, 'walk': 4827, 'mile': 2832, 'stair': 4205, 'whenever': 4888, 'possible': 3378, 'massive': 2747, 'payment': 3230, 'student': 4279, 'loan': 2642, 'maybe': 2766, 'pleasant': 3330, 'morning': 2897, 'nyc': 3049, 'commute': 871, 'soon': 4131, 'fulfilling': 1879, 'dedicate': 1150, 'lesson': 2589, 'grant': 1995, 'apply': 237, 'pursuit': 3531, 'throw': 4492, 'reminder': 3692, 'sometimes': 4125, 'breakfast': 551, 'two': 4631, 'woman': 4932, 'advise': 102, 'employment': 1482, 'nursing': 3044, 'field': 1734, 'ear': 1410, 'perk': 3258, 'discuss': 1296, 'food': 1803, 'strike': 4268, 'health': 2099, 'rise': 3783, 'rate': 3582, 'child': 754, 'country': 1023, 'obesity': 3051, 'pandemic': 3186, 'click': 799, 'unbelievably': 4649, 'whine': 4895, 'fact': 1667, 'rent': 3699, 'high': 2138, 'wait': 4823, 'bus': 609, 'silly': 4023, 'dominate': 1340, 'absolute': 8, 'privilege': 3444, 'planet': 3317, 'appreciate': 239, 'access': 26, 'bare': 381, 'necessity': 2960, 'healthy': 2103, 'shelter': 3978, 'element': 1455, 'top': 4542, 'somehow': 4121, 'manage': 2716, 'place': 3312, 'able': 4, 'play': 3324, 'incredible': 2290, 'social': 4100, 'movement': 2914, 'amazing': 169, 'passionate': 3215, 'along': 156, 'sight': 4014, 'forever': 1811, 'burn': 603, 'company': 873, 'truly': 4608, 'rebuild': 3614, 'community': 870, 'throughout': 4491, 'yet': 4986, 'catch': 679, 'judge': 2467, 'else': 1459, 'matter': 2758, 'human': 2202, 'natural': 2949, 'concern': 910, 'immediate': 2246, 'environment': 1534, 'gift': 1942, 'forget': 1813, 'universe': 4693, 'kind': 2498, 'remind': 3691, 'happier': 2067, 'benefit': 443, 'extend': 1648, 'subjective': 4290, 'objective': 3053, 'shall': 3963, 'add': 68, 'misery': 2857, 'sorrow': 4136, 'smile': 4079, 'infinite': 2311, 'delight': 1174, 'mystery': 2931, 'essay': 1555, 'letter': 2592, 'niece': 2998, 'hard': 2073, 'ahead': 131, 'despite': 1218, 'hardship': 2078, 'present': 3417, 'stupid': 4284, 'low': 2681, 'esteem': 1561, 'abuse': 15, 'third': 4477, 'degree': 1166, 'college': 846, 'writer': 4966, 'read': 3594, 'proud': 3499, 'preface': 3404, 'post': 3380, 'permission': 3261, 'name': 2937, 'anxiety': 210, 'coach': 823, 'skype': 4055, 'suggest': 4315, 'method': 2820, 'within': 4926, 'ten': 4434, 'create': 1047, 'view': 4790, 'audience': 322, 'share': 3968, 'therapy': 4466, 'might': 2828, 'provide': 3503, 'eight': 1446, 'lonely': 2656, 'girl': 1945, 'insecure': 2334, 'notice': 3026, 'crack': 1037, 'sidewalk': 4012, 'shoe': 3991, 'neck': 2961, 'hurt': 2214, 'constantly': 957, 'upwards': 4730, 'lovely': 2678, 'hang': 2062, 'painfully': 3182, 'aware': 345, 'board': 503, 'unable': 4644, 'page': 3179, 'bother': 526, 'beautiful': 410, 'reading': 3596, 'writing': 4967, 'hop': 2173, 'disappear': 1278, 'comprehend': 901, 'language': 2533, 'glass': 1952, 'school': 3884, 'prosper': 3492, 'four': 1832, 'hero': 2127, 'magical': 2698, 'special': 4158, 'sally': 3845, 'intelligence': 2368, 'cherish': 747, 'tease': 4413, 'soul': 4140, 'mate': 2754, 'wonderful': 4934, 'rock': 3795, 'twelve': 4624, 'hug': 2200, 'hot': 2190, 'glue': 1957, 'mix': 2863, 'family': 1684, 'support': 4337, 'gather': 1911, 'intelligent': 2369, 'lot': 2672, 'offer': 3083, 'turn': 4620, 'table': 4381, 'chronic': 771, 'disease': 1298, 'instead': 2354, 'foster': 1828, 'growth': 2026, 'patience': 3224, 'remain': 3687, 'cool': 993, 'list': 2627, 'virtue': 4799, 'characteristic': 723, 'moral': 2894, 'excellence': 1600, 'principle': 3435, 'resonate': 3735, 'enjoy': 1510, 'humble': 2204, 'brag': 542, 'early': 1412, 'decide': 1144, 'favour': 1707, 'almost': 154, 'important': 2257, 'actually': 64, 'suddenly': 4310, 'bank': 378, 'regularly': 3659, 'significant': 4018, 'difference': 1252, 'nothing': 3024, 'perfect': 3248, 'finish': 1753, 'excellent': 1601, 'permanent': 3259, 'email': 1462, 'twice': 4626, 'hit': 2154, 'elderly': 1449, 'blow': 496, 'necessary': 2959, 'physical': 3291, 'needle': 2963, 'touch': 4548, 'away': 347, 'circle': 777, 'definitely': 1163, 'movie': 2915, 'alone': 155, 'bet': 448, 'nerve': 2977, 'fall': 1680, 'trap': 4582, 'book': 512, 'coffee': 833, 'valuable': 4756, 'corner': 1002, 'wisely': 4921, 'worry': 4950, 'funny': 1891, 'breath': 555, 'lash': 2538, 'anybody': 212, 'especially': 1554, 'birthday': 470, 'cooking': 991, 'fun': 1884, 'recipe': 3620, 'dish': 1301, 'buy': 617, 'gym': 2044, 'exercise': 1618, 'short': 3995, 'none': 3010, 'terrible': 4442, 'whatever': 4883, 'responsibility': 3742, 'worried': 4949, 'control': 979, 'remember': 3690, 'worrying': 4951, 'fix': 1763, 'afraid': 114, 'texting': 4452, 'everybody': 1580, 'honesty': 2168, 'depth': 1201, 'opinion': 3107, 'argument': 256, 'internet': 2389, 'sex': 3956, 'nearly': 2956, 'city': 781, 'circumstance': 779, 'usually': 4742, 'review': 3765, 'genre': 1927, 'film': 1742, 'original': 3128, 'involve': 2417, 'participate': 3205, 'hand': 2057, 'volunteer': 4816, 'class': 787, 'front': 1863, 'lecture': 2574, 'hall': 2054, 'professor': 3466, 'pretend': 3422, 'due': 1398, 'date': 1117, 'assignment': 292, 'convince': 985, 'generally': 1920, 'market': 2738, 'talent': 4390, 'acknowledge': 51, 'limitation': 2616, 'belong': 436, 'society': 4104, 'certainly': 703, 'attractive': 319, 'extra': 1655, 'half': 2052, 'hour': 2192, 'promise': 3479, 'deliver': 1176, 'please': 3332, 'design': 1208, 'headphone': 2095, 'open': 3101, 'interaction': 2379, 'picture': 3297, 'eye': 1660, 'ashamed': 275, 'weird': 4873, 'wide': 4903, 'nostalgia': 3021, 'heroin': 2128, 'network': 2982, 'willing': 4906, 'bit': 471, 'product': 3459, 'expense': 1631, 'nice': 2994, 'clothes': 816, 'wear': 4859, 'grow': 2024, 'facial': 1665, 'hair': 2050, 'math': 2756, 'owe': 3169, 'bos': 524, 'nature': 2951, 'gossip': 1975, 'server': 3944, 'fully': 1883, 'return': 3759, 'decorate': 1148, 'room': 3806, 'congratulate': 934, 'jealousy': 2448, 'jerk': 2449, 'sincere': 4033, 'admiration': 82, 'mistake': 2861, 'nobody': 3005, 'charming': 730, 'george': 1933, 'celebrity': 692, 'artist': 271, 'creative': 1049, 'inspiration': 2342, 'bear': 405, 'travel': 4587, 'international': 2388, 'expensive': 1632, 'walking': 4828, 'shame': 3966, 'either': 1447, 'accept': 21, 'persistence': 3265, 'entirely': 1526, 'rich': 3772, 'hole': 2157, 'ignorant': 2232, 'border': 517, 'arbitrary': 251, 'global': 1954, 'citizen': 780, 'habit': 2045, 'credit': 1053, 'card': 658, 'debt': 1138, 'admit': 85, 'idiot': 2228, 'curiosity': 1086, 'must': 2926, 'man': 2715, 'word': 4938, 'bullet': 593, 'truth': 4610, 'hell': 2119, 'three': 4487, 'magic': 2697, 'limited': 2617, 'fill': 1741, 'visual': 4805, 'amaze': 168, 'reply': 3711, 'text': 4450, 'update': 4716, 'medium': 2793, 'delicious': 1173, 'though': 4480, 'pay': 3228, 'attention': 315, 'taste': 4400, 'procrastinator': 3457, 'ok': 3091, 'big': 457, 'video': 4787, 'online': 3099, 'detail': 1226, 'sensation': 3931, 'eat': 1421, 'slowly': 4071, 'gratitude': 2001, 'finally': 1745, 'left': 2575, 'heal': 2097, 'waste': 4845, 'full': 1882, 'potential': 3386, 'yesterday': 4985, 'feedback': 1717, 'devastate': 1233, 'saw': 3865, 'wit': 4923, 'actively': 60, 'seek': 3916, 'although': 165, 'nervous': 2978, 'join': 2457, 'group': 2023, 'scar': 3870, 'emotionally': 1473, 'trust': 4609, 'anymore': 213, 'lie': 2600, 'whole': 4900, 'image': 2240, 'shatter': 3970, 'shit': 3988, 'commitment': 865, 'shut': 4006, 'luck': 2684, 'sake': 3841, 'ago': 124, 'stand': 4207, 'mirror': 2854, 'shirt': 3987, 'star': 4210, 'pound': 3388, 'borderline': 518, 'obese': 3050, 'belief': 430, 'future': 1895, 'disgust': 1300, 'entire': 1525, 'pizza': 3311, 'lunch': 2687, 'tire': 4517, 'lift': 2605, 'belly': 435, 'laugh': 2546, 'several': 3953, 'single': 4038, 'ready': 3597, 'stomach': 4242, 'gentle': 1928, 'shoulder': 3999, 'chest': 749, 'snap': 4087, 'photo': 3287, 'journey': 2464, 'slow': 4070, 'trip': 4601, 'couple': 1025, 'meal': 2770, 'flight': 1776, 'agony': 125, 'pillow': 3303, 'shower': 4003, 'cold': 838, 'setting': 3949, 'wall': 4829, 'option': 3116, 'yes': 4984, 'vegetable': 4766, 'swallow': 4361, 'sadness': 3836, 'set': 3947, 'lung': 2688, 'fire': 1754, 'muscle': 2921, 'athletic': 302, 'envy': 1536, 'rest': 3744, 'verge': 4775, 'beginning': 423, 'light': 2607, 'healthier': 2101, 'sleep': 4060, 'deeper': 1155, 'article': 268, 'shop': 3993, 'murder': 2920, 'august': 325, 'celebration': 691, 'favorite': 1706, 'pair': 3185, 'jam': 2440, 'finger': 1752, 'air': 136, 'middle': 2824, 'july': 2474, 'central': 696, 'texas': 4449, 'cooky': 992, 'chip': 759, 'face': 1662, 'road': 3790, 'failure': 1674, 'cake': 629, 'banana': 374, 'workout': 4944, 'swell': 4368, 'bruise': 579, 'sweat': 4363, 'foot': 1806, 'treadmill': 4588, 'limit': 2615, 'desired': 1212, 'order': 3118, 'extraordinary': 1656, 'sandwich': 3851, 'dinner': 1264, 'reflect': 3645, 'boy': 537, 'town': 4554, 'legend': 2580, 'achieve': 48, 'june': 2476, 'chubby': 772, 'accomplishment': 33, 'empower': 1483, 'gain': 1897, 'weight': 4872, 'purpose': 3529, 'paradigm': 3191, 'shift': 3982, 'effort': 1440, 'literal': 2631, 'calorie': 637, 'fruit': 1867, 'butter': 614, 'concentrate': 907, 'protein': 3498, 'bread': 548, 'pasta': 3218, 'greek': 2007, 'problem': 3450, 'affair': 108, 'budget': 589, 'healthily': 2102, 'prepare': 3412, 'curve': 1092, 'chicken': 753, 'veggie': 4767, 'egg': 1443, 'roast': 3791, 'cheap': 733, 'pour': 3389, 'kitchen': 2507, 'difficult': 1256, 'gig': 1943, 'program': 3470, 'pleasure': 3336, 'earn': 1413, 'session': 3946, 'nutrition': 3048, 'vocabulary': 4810, 'execute': 1617, 'research': 3721, 'theory': 4463, 'form': 1816, 'destiny': 1221, 'barely': 382, 'fat': 1700, 'crazy': 1045, 'fast': 1697, 'period': 3257, 'zero': 4996, 'increase': 2287, 'gradually': 1984, 'carbs': 657, 'sprint': 4193, 'regimen': 3655, 'continuously': 973, 'bench': 440, 'press': 3420, 'handle': 2060, 'guess': 2031, 'power': 3391, 'physically': 3292, 'continue': 971, 'lifestyle': 2603, 'apathy': 223, 'cook': 989, 'trainer': 4570, 'strange': 4251, 'floss': 1785, 'butt': 613, 'alarm': 139, 'pump': 3520, 'yell': 4981, 'paper': 3189, 'pride': 3429, 'awesome': 349, 'capability': 650, 'recognition': 3623, 'object': 3052, 'desire': 1211, 'true': 4607, 'deal': 1129, 'mold': 2877, 'blood': 494, 'tear': 4412, 'transform': 4576, 'importantly': 2258, 'mentally': 2806, 'fail': 1671, 'charge': 724, 'quest': 3544, 'strong': 4273, 'version': 4777, 'possibility': 3377, 'impossible': 2260, 'mantra': 2728, 'rob': 3792, 'energy': 1500, 'towards': 4553, 'deliberate': 1171, 'mindful': 2840, 'empathy': 1476, 'understand': 4664, 'essential': 1557, 'functioning': 1887, 'refer': 3641, 'bind': 462, 'associate': 295, 'master': 2749, 'kindness': 2503, 'independent': 2294, 'emotional': 1472, 'stability': 4198, 'marriage': 2740, 'psychological': 3510, 'hack': 2047, 'blissful': 490, 'discover': 1295, 'obvious': 3067, 'answer': 203, 'stage': 4203, 'subreddit': 4292, 'stuff': 4282, 'essentially': 1558, 'gf': 1938, 'ate': 300, 'drink': 1383, 'somewhat': 4126, 'excessively': 1608, 'smoke': 4081, 'pot': 3384, 'occasionally': 3071, 'assumption': 298, 'bore': 519, 'visit': 4804, 'cut': 1096, 'junk': 2478, 'alcohol': 142, 'combat': 850, 'drug': 1392, 'stick': 4231, 'gun': 2039, 'hardest': 2076, 'researcher': 3722, 'correlation': 1010, 'university': 4694, 'grade': 1983, 'deeply': 1156, 'extension': 1650, 'enter': 1520, 'entity': 1529, 'extrovert': 1659, 'terribly': 4443, 'engagement': 1503, 'mood': 2892, 'tend': 4435, 'drop': 1390, 'summer': 4324, 'position': 3371, 'attend': 314, 'club': 819, 'available': 337, 'member': 2798, 'dating': 1118, 'site': 4042, 'fuck': 1873, 'job': 2452, 'reality': 3602, 'stimulus': 4236, 'rut': 3830, 'favor': 1705, 'intro': 2401, 'philosophy': 3285, 'spirit': 4175, 'introduce': 2402, 'https': 2199, 'case': 671, 'interested': 2381, 'subject': 4289, 'philosopher': 3283, 'arise': 257, 'ancient': 188, 'clear': 796, 'depart': 1188, 'tradition': 4562, 'religion': 3683, 'famous': 1685, 'plato': 3322, 'aristotle': 258, 'variety': 4761, 'roman': 3800, 'destruction': 1223, 'knowledge': 2519, 'burning': 604, 'library': 2598, 'belonging': 437, 'ad': 65, 'muslim': 2925, 'christian': 769, 'previously': 3426, 'arrive': 265, 'traditional': 4563, 'develop': 1234, 'earth': 1414, 'surround': 4352, 'fifth': 1736, 'base': 385, 'observation': 3059, 'gravity': 2003, 'unless': 4696, 'upon': 4722, 'father': 1702, 'modern': 2875, 'pick': 3296, 'attack': 310, 'worthy': 4958, 'clearly': 797, 'perceive': 3244, 'argue': 255, 'existence': 1624, 'god': 1960, 'contribution': 978, 'sole': 4112, 'property': 3489, 'space': 4148, 'sun': 4325, 'moon': 2893, 'generate': 1921, 'posture': 3383, 'stretch': 4264, 'bend': 441, 'ease': 1415, 'tension': 4440, 'joint': 2458, 'pull': 3519, 'understandable': 4665, 'spine': 4173, 'straight': 4249, 'otherwise': 3132, 'quite': 3552, 'addition': 74, 'default': 1157, 'sub': 4286, 'negativity': 2968, 'content': 966, 'remove': 3697, 'rid': 3773, 'block': 492, 'pic': 3295, 'alternative': 164, 'app': 227, 'hi': 2133, 'personality': 3269, 'character': 722, 'area': 252, 'willpower': 4909, 'user': 4740, 'understanding': 4666, 'keen': 2486, 'via': 4780, 'heavy': 2114, 'absolutely': 9, 'dorm': 1348, 'building': 592, 'snack': 4085, 'per': 3243, 'later': 2544, 'soda': 4106, 'grocery': 2019, 'store': 4246, 'free': 1843, 'fridge': 1857, 'coke': 837, 'particularly': 3207, 'unique': 4689, 'burger': 602, 'fry': 1872, 'restaurant': 3746, 'typically': 4634, 'thru': 4494, 'taco': 4384, 'bell': 434, 'exception': 1603, 'subway': 4302, 'found': 1830, 'psychology': 3513, 'newly': 2991, 'launch': 2548, 'magazine': 2696, 'john': 2456, 'impact': 2252, 'business': 610, 'abundance': 13, 'dream': 1378, 'inspiring': 2346, 'source': 4144, 'author': 330, 'speaker': 4156, 'entrepreneur': 1531, 'guru': 2040, 'common': 867, 'trend': 4595, 'agree': 127, 'outcome': 3137, 'simply': 4029, 'result': 3750, 'reap': 3607, 'subconscious': 4287, 'unlock': 4700, 'james': 2441, 'generation': 1922, 'being': 429, 'inner': 2329, 'attitude': 316, 'outer': 3139, 'aspect': 281, 'record': 3628, 'example': 1597, 'similar': 4025, 'land': 2530, 'plant': 3319, 'seed': 3915, 'corn': 1001, 'poison': 3348, 'complex': 894, 'consciously': 940, 'achievement': 49, 'creator': 1051, 'action': 57, 'duty': 1404, 'subscribe': 4294, 'youtube': 4993, 'channel': 718, 'interview': 2396, 'confuse': 931, 'contentment': 967, 'thin': 4472, 'privileged': 3445, 'peace': 3232, 'relaxation': 3674, 'wealthy': 4856, 'bless': 485, 'pure': 3527, 'fiction': 1732, 'logic': 2649, 'rambling': 3570, 'imagine': 2243, 'pc': 3231, 'broken': 573, 'stuck': 4278, 'repeat': 3704, 'task': 4399, 'browse': 576, 'subreddits': 4293, 'spare': 4152, 'desperate': 1215, 'mouth': 2912, 'size': 4045, 'productive': 3461, 'website': 4862, 'blog': 493, 'joke': 2459, 'starve': 4216, 'careful': 663, 'lil': 2614, 'guilty': 2036, 'beauty': 412, 'complacent': 888, 'machine': 2694, 'hopefully': 2176, 'exit': 1626, 'complain': 889, 'wife': 4904, 'professionally': 3465, 'networking': 2983, 'horribly': 2182, 'totally': 4547, 'frustrated': 1869, 'quit': 3551, 'challenge': 711, 'game': 1900, 'suck': 4308, 'programming': 3472, 'security': 3912, 'president': 3419, 'amazon': 171, 'application': 236, 'resume': 3751, 'grass': 1998, 'green': 2008, 'wherever': 4890, 'complete': 891, 'afford': 112, 'daughter': 1119, 'educate': 1432, 'resent': 3723, 'law': 2550, 'invite': 2416, 'la': 2521, 'california': 632, 'dad': 1103, 'retire': 3755, 'million': 2836, 'dollar': 1336, 'monster': 2889, 'truck': 4605, 'seven': 3952, 'poor': 3361, 'plane': 3316, 'ticket': 4499, 'saving': 3864, 'capture': 655, 'beach': 402, 'miserable': 2856, 'satisfy': 3860, 'lifetime': 2604, 'chore': 765, 'delightful': 1175, 'stress': 4261, 'overwhelm': 3165, 'pile': 3300, 'path': 3222, 'resistance': 3732, 'park': 3200, 'compile': 886, 'bunch': 600, 'quote': 3554, 'minecraft': 2845, 'copy': 999, 'public': 3516, 'randomly': 3573, 'structure': 4275, 'nowhere': 3035, 'player': 3325, 'contribute': 977, 'cult': 1079, 'holy': 2160, 'publish': 3518, 'craft': 1038, 'label': 2523, 'dominant': 1339, 'gentleman': 1929, 'bastard': 393, 'weapon': 4858, 'powerful': 3392, 'anyway': 217, 'strive': 4271, 'behavior': 425, 'define': 1162, 'better': 450, 'format': 1818, 'replace': 3708, 'line': 2620, 'license': 2599, 'friendly': 1859, 'unknown': 4695, 'generous': 1924, 'trouble': 4604, 'obligatory': 3057, 'serve': 3943, 'rule': 3822, 'charles': 728, 'repay': 3703, 'ditch': 1320, 'hearted': 2110, 'brilliant': 567, 'candle': 645, 'decrease': 1149, 'portion': 3369, 'saint': 3840, 'de': 1125, 'prefer': 3405, 'justice': 2479, 'mark': 2737, 'carve': 670, 'guard': 2030, 'treasure': 4589, 'hesitation': 2131, 'acquire': 54, 'sand': 3850, 'underestimate': 4659, 'listening': 2630, 'compliment': 898, 'caring': 666, 'fit': 1759, 'empty': 1485, 'television': 4425, 'pas': 3211, 'pass': 3212, 'wipe': 4917, 'deed': 1152, 'appear': 231, 'merely': 2810, 'respect': 3738, 'whatsoever': 4886, 'analysis': 184, 'cling': 803, 'sum': 4321, 'goodness': 1969, 'prove': 3501, 'exist': 1623, 'futile': 1894, 'courage': 1026, 'fund': 1888, 'evil': 1587, 'defend': 1159, 'longer': 2659, 'aim': 134, 'overwhelming': 3167, 'army': 261, 'legal': 2579, 'thanks': 4457, 'formatting': 1819, 'ideal': 2224, 'adversity': 100, 'development': 1236, 'spark': 4153, 'manageable': 2717, 'mortgage': 2898, 'motivated': 2903, 'lazy': 2556, 'scatter': 3876, 'curl': 1088, 'pet': 3275, 'dog': 1335, 'ignore': 2233, 'guilt': 2035, 'validate': 4753, 'teenager': 4423, 'exhaust': 1621, 'relax': 3673, 'weekend': 4869, 'justify': 2481, 'status': 4221, 'department': 1189, 'sustain': 4359, 'excitement': 1612, 'easily': 1417, 'inherently': 2322, 'trait': 4572, 'current': 1089, 'depressed': 1196, 'former': 1820, 'slight': 4066, 'usual': 4741, 'despair': 1214, 'disciplined': 1286, 'discipline': 1285, 'tomorrow': 4535, 'bullshit': 594, 'practical': 3394, 'overall': 3149, 'advanced': 96, 'english': 1508, 'poster': 3381, 'inside': 2337, 'tl': 4520, 'dr': 1363, 'bottom': 528, 'encounter': 1487, 'speak': 4155, 'french': 1849, 'italian': 2433, 'russian': 3829, 'obsess': 3061, 'brand': 545, 'tim': 4508, 'articulate': 269, 'vast': 4764, 'excuse': 1616, 'dreadful': 1377, 'blue': 498, 'glance': 1951, 'anytime': 216, 'fancy': 1687, 'coming': 860, 'contain': 963, 'send': 3928, 'issue': 2432, 'insignificant': 2340, 'mentality': 2805, 'concert': 912, 'wo': 4930, 'disrespect': 1310, 'capable': 651, 'hurtful': 2215, 'roll': 3798, 'ridiculously': 3777, 'husband': 2216, 'sensitive': 3933, 'background': 358, 'bully': 595, 'pretty': 3423, 'verbal': 4773, 'root': 3808, 'professional': 3464, 'folk': 1797, 'challenging': 712, 'communication': 869, 'style': 4285, 'frustrate': 1868, 'reaction': 3592, 'solve': 4118, 'mad': 2695, 'anger': 190, 'frustration': 1871, 'direct': 1268, 'resource': 3737, 'bring': 568, 'beer': 418, 'chocolate': 760, 'gon': 1966, 'na': 2932, 'lord': 2665, 'ring': 3780, 'mod': 2870, 'onto': 3100, 'computer': 905, 'fan': 1686, 'focus': 1792, 'boyfriend': 538, 'devote': 1239, 'exclusively': 1615, 'assure': 299, 'chill': 757, 'determine': 1230, 'fly': 1791, 'excited': 1611, 'plus': 3340, 'window': 4912, 'ah': 130, 'embark': 1463, 'midst': 2826, 'cry': 1075, 'till': 4507, 'indeed': 2292, 'addiction': 72, 'meditate': 2790, 'diet': 1251, 'caffeine': 627, 'yoga': 4989, 'dramatically': 1369, 'promising': 3480, 'distress': 1318, 'pop': 3363, 'immediately': 2247, 'converse': 982, 'calm': 634, 'criticism': 1064, 'perspective': 3271, 'slip': 4069, 'ups': 4724, 'revert': 3764, 'slightly': 4067, 'observe': 3060, 'hook': 2172, 'dirt': 1272, 'angry': 192, 'destructive': 1224, 'manipulation': 2724, 'internally': 2387, 'euphoric': 1568, 'scratch': 3891, 'thank': 4454, 'helpful': 2123, 'express': 1646, 'expect': 1628, 'completely': 892, 'random': 3572, 'incredibly': 2291, 'whoever': 4899, 'nbsp': 2953, 'billion': 460, 'cousin': 1030, 'software': 4110, 'max': 2762, 'vacation': 4747, 'basic': 388, 'tutorial': 4621, 'dig': 1258, 'curious': 1087, 'shitty': 3989, 'animation': 195, 'information': 2316, 'jump': 2475, 'solo': 4116, 'suppress': 4340, 'neutral': 2986, 'dunno': 1402, 'motion': 2901, 'basically': 389, 'passion': 3214, 'currently': 1090, 'near': 2954, 'age': 118, 'pack': 3176, 'oh': 3088, 'swimming': 4370, 'coding': 832, 'gaming': 1902, 'sound': 4141, 'cliche': 798, 'smoking': 4083, 'absurd': 12, 'bipolar': 467, 'exhausted': 1622, 'unhealthy': 4684, 'overnight': 3158, 'mention': 2807, 'fantasy': 1691, 'relevant': 3678, 'yeah': 4977, 'apart': 220, 'sick': 4010, 'torture': 4544, 'bite': 473, 'factor': 1668, 'huge': 2201, 'successful': 4305, 'academically': 20, 'among': 177, 'uk': 4639, 'rice': 3771, 'apple': 234, 'motor': 2908, 'virgin': 4795, 'america': 175, 'disney': 1305, 'mattress': 2759, 'model': 2872, 'crowd': 1068, 'energetic': 1498, 'reserve': 3726, 'wonderfully': 4935, 'adjustment': 81, 'function': 1885, 'peak': 3234, 'capacity': 652, 'household': 2194, 'tv': 4622, 'surf': 4343, 'twitter': 4630, 'main': 2702, 'intentionally': 2377, 'technique': 4417, 'earlier': 1411, 'strategy': 4253, 'owl': 3170, 'ironically': 2422, 'subconsciously': 4288, 'switch': 4372, 'bird': 468, 'instant': 2352, 'boost': 514, 'productivity': 3462, 'buzz': 619, 'quiet': 3548, 'peaceful': 3233, 'noise': 3008, 'silence': 4020, 'sleeping': 4061, 'holiday': 2158, 'island': 2428, 'regular': 3658, 'ritual': 3787, 'journal': 2461, 'schedule': 3881, 'advance': 95, 'hotel': 2191, 'overlook': 3156, 'garden': 1906, 'mountain': 2910, 'awake': 343, 'bathroom': 397, 'teeth': 4424, 'shave': 3971, 'dress': 1380, 'refill': 3643, 'desk': 1213, 'inspirational': 2343, 'bible': 455, 'pray': 3400, 'timer': 4511, 'scan': 3869, 'file': 1740, 'miracle': 2852, 'podcast': 3343, 'intentional': 2376, 'subtle': 4300, 'respond': 3740, 'organise': 3121, 'section': 3910, 'consistently': 953, 'insert': 2336, 'selfish': 3924, 'plain': 3314, 'enable': 1486, 'strength': 4259, 'weakness': 4854, 'hygiene': 2218, 'urgent': 4733, 'prompt': 3483, 'procrastinate': 3455, 'highly': 2140, 'crush': 1073, 'load': 2641, 'win': 4910, 'crawl': 1044, 'display': 1308, 'humour': 2207, 'carefully': 664, 'vehicle': 4768, 'momentum': 2881, 'seriously': 3941, 'incapable': 2277, 'meeting': 2795, 'party': 3210, 'lack': 2525, 'inconvenience': 2285, 'neither': 2973, 'effective': 1436, 'partner': 3209, 'colleague': 842, 'probably': 3448, 'alert': 145, 'spouse': 4190, 'plenty': 3337, 'enhance': 1509, 'enormous': 1514, 'tonight': 4539, 'significantly': 4019, 'train': 4569, 'busy': 612, 'quickly': 3547, 'traffic': 4564, 'fixed': 1765, 'planning': 3318, 'accident': 28, 'whether': 4891, 'dependent': 1193, 'occasional': 3070, 'bedtime': 417, 'routine': 3815, 'eliminate': 1457, 'screen': 3893, 'tablet': 4382, 'music': 2922, 'ensure': 1519, 'dark': 1113, 'clock': 808, 'device': 1237, 'turkey': 4619, 'painful': 3181, 'sudden': 4309, 'rhythm': 3770, 'system': 4378, 'type': 4632, 'steady': 4224, 'adjust': 80, 'route': 3814, 'speed': 4165, 'combination': 851, 'calendar': 631, 'tick': 4498, 'material': 2755, 'red': 3633, 'establish': 1559, 'anywhere': 219, 'notebook': 3023, 'gamification': 1901, 'behaviour': 427, 'target': 4398, 'motivator': 2907, 'sooner': 4132, 'vital': 4808, 'rank': 3575, 'six': 4044, 'remarkable': 3689, 'recommend': 3625, 'pattern': 3226, 'aside': 278, 'outdoors': 3138, 'escapism': 1552, 'hide': 2135, 'girlfriend': 1946, 'frankly': 1839, 'novel': 3031, 'tolerate': 4531, 'imagination': 2242, 'surprise': 4346, 'local': 2644, 'government': 1978, 'living': 2638, 'decent': 1142, 'salary': 3843, 'dull': 1399, 'war': 4835, 'advancement': 97, 'manager': 2719, 'envious': 1533, 'team': 4410, 'knowledgeable': 2520, 'career': 662, 'square': 4194, 'internship': 2390, 'responsible': 3743, 'suggestion': 4316, 'hobby': 2155, 'technology': 4418, 'hike': 2143, 'trail': 4567, 'repetitive': 3707, 'climb': 802, 'appeal': 230, 'ordinary': 3119, 'satiate': 3857, 'possession': 3376, 'hollow': 2159, 'momentary': 2880, 'invest': 2412, 'certification': 706, 'angle': 191, 'milestone': 2833, 'tired': 4518, 'chair': 708, 'double': 1352, 'standing': 4209, 'podcasts': 3344, 'driving': 1389, 'subscription': 4296, 'weekly': 4870, 'occasion': 3069, 'listener': 2629, 'office': 3084, 'enthusiastic': 1524, 'suit': 4319, 'experiment': 1635, 'box': 536, 'search': 3900, 'height': 2118, 'roughly': 3812, 'accordingly': 35, 'balance': 369, 'temporary': 4431, 'confident': 924, 'flat': 1769, 'wood': 4937, 'strengthen': 4260, 'permanently': 3260, 'convinced': 986, 'storage': 4245, 'loose': 2664, 'item': 2434, 'shelf': 3976, 'whereas': 4889, 'range': 3574, 'difficulty': 1257, 'pain': 3180, 'breathing': 557, 'overweight': 3164, 'improved': 2267, 'concentration': 908, 'confidently': 925, 'harder': 2075, 'elsewhere': 1460, 'pleasantly': 3331, 'assume': 297, 'reveal': 3760, 'vein': 4769, 'counter': 1020, 'leg': 2577, 'mainstream': 2704, 'furniture': 1892, 'popular': 3364, 'workplace': 4945, 'employer': 1481, 'upgrade': 4717, 'electric': 1451, 'button': 616, 'finding': 1750, 'stumble': 4283, 'analyse': 183, 'perform': 3253, 'spiritual': 4176, 'mundane': 2919, 'sell': 3926, 'link': 2624, 'memory': 2802, 'unnecessary': 4702, 'freely': 1847, 'embrace': 1468, 'demonstrate': 1182, 'dental': 1185, 'dentist': 1186, 'brush': 580, 'improvement': 2268, 'gum': 2038, 'nevertheless': 2988, 'affirmation': 111, 'separate': 3935, 'shortly': 3997, 'google': 1972, 'focused': 1793, 'promote': 3481, 'journalling': 2463, 'pad': 3178, 'favourite': 1708, 'pen': 3240, 'safely': 3838, 'cloud': 818, 'inbox': 2276, 'apps': 249, 'input': 2331, 'folder': 1796, 'delegate': 1168, 'delete': 1169, 'tag': 4386, 'assign': 291, 'weather': 4860, 'deliberately': 1172, 'contact': 962, 'minimum': 2849, 'topic': 4543, 'maintenance': 2706, 'teaching': 4409, 'tidy': 4500, 'round': 3813, 'dust': 1403, 'impression': 2263, 'briefly': 563, 'creativity': 1050, 'row': 3816, 'restart': 3745, 'consistent': 952, 'draw': 1373, 'definition': 1164, 'relative': 3671, 'uphill': 4718, 'consistency': 951, 'puzzle': 3536, 'settle': 3950, 'particular': 3206, 'unconscious': 4656, 'nail': 2934, 'foundation': 1831, 'evaluate': 1571, 'identify': 2226, 'emphasis': 1477, 'reinforce': 3662, 'various': 4762, 'london': 2653, 'partly': 3208, 'branch': 544, 'takeaway': 4388, 'cup': 1083, 'fresh': 1853, 'accord': 34, 'repeatedly': 3705, 'consume': 960, 'replacement': 3709, 'directly': 1270, 'connect': 936, 'intake': 2364, 'filter': 1743, 'downstairs': 1358, 'collect': 843, 'upstairs': 4727, 'drinking': 1385, 'tried': 4599, 'childhood': 755, 'plate': 3320, 'refuse': 3651, 'mum': 2918, 'encourage': 1488, 'persuade': 3272, 'gap': 1903, 'maximum': 2764, 'automatically': 335, 'heard': 2105, 'seemingly': 3918, 'chunk': 774, 'except': 1602, 'tiny': 4515, 'fifteen': 1735, 'thirty': 4478, 'cigarette': 776, 'yard': 4974, 'pointless': 3347, 'sentence': 3934, 'bar': 380, 'paragraph': 3192, 'ugly': 4638, 'male': 2713, 'attractiveness': 320, 'nose': 3020, 'thick': 4471, 'score': 3889, 'reject': 3663, 'frequently': 1852, 'league': 2563, 'external': 1653, 'match': 2753, 'unconsciously': 4657, 'universal': 4692, 'shape': 3967, 'culture': 1082, 'total': 4546, 'hence': 2126, 'jealous': 2447, 'inferior': 2309, 'shallow': 3964, 'error': 1549, 'native': 2948, 'feels': 1720, 'mess': 2812, 'judgement': 2468, 'positively': 3373, 'cruel': 1070, 'recover': 3629, 'piano': 3294, 'proceed': 3452, 'drawing': 1375, 'fulfilled': 1878, 'musical': 2923, 'epic': 1537, 'hundred': 2208, 'refrain': 3648, 'creature': 1052, 'watching': 4849, 'regardless': 3654, 'passing': 3213, 'street': 4258, 'represent': 3713, 'complicate': 895, 'hat': 2086, 'alike': 148, 'grace': 1981, 'violence': 4793, 'destroy': 1222, 'uncomfortable': 4653, 'accomplish': 31, 'rare': 3579, 'diamond': 1244, 'wreck': 4964, 'perfectly': 3252, 'history': 2153, 'dislike': 1302, 'proof': 3485, 'collection': 844, 'indulge': 2303, 'animal': 194, 'revenge': 3762, 'petty': 3278, 'irresponsible': 2425, 'organize': 3124, 'profound': 3469, 'compel': 880, 'alleviate': 151, 'suffering': 4312, 'quantity': 3540, 'national': 2947, 'cost': 1011, 'strongly': 4274, 'bias': 454, 'volume': 4815, 'average': 339, 'driver': 1387, 'punish': 3522, 'vent': 4770, 'correct': 1007, 'worthless': 4956, 'rarely': 3580, 'achievable': 47, 'hesitate': 2130, 'demand': 1180, 'sale': 3844, 'annoy': 199, 'casual': 675, 'dumb': 1400, 'immensely': 2249, 'remark': 3688, 'wind': 4911, 'taught': 4403, 'ingredient': 2320, 'north': 3019, 'nine': 3003, 'occur': 3073, 'polite': 3353, 'ocean': 3075, 'price': 3427, 'battery': 398, 'wise': 4920, 'genius': 1926, 'priceless': 3428, 'addict': 71, 'ice': 2221, 'tea': 4406, 'influence': 2313, 'acquaintance': 53, 'instagram': 2349, 'surprisingly': 4349, 'prominent': 3478, 'exciting': 1613, 'netflix': 2981, 'polish': 3352, 'season': 3902, 'scroll': 3896, 'pit': 3309, 'wasting': 4847, 'battle': 399, 'cafe': 626, 'venture': 4771, 'pathetic': 3223, 'pant': 3188, 'exaggeration': 1594, 'constant': 956, 'genuinely': 1932, 'rightfully': 3779, 'messy': 2815, 'concrete': 915, 'origin': 3127, 'obsession': 3062, 'breakdown': 550, 'manifest': 2721, 'threaten': 4486, 'panic': 3187, 'restriction': 3749, 'milk': 2835, 'meat': 2780, 'delusional': 1179, 'hospital': 2185, 'diagnose': 1241, 'incomplete': 2284, 'stressful': 4263, 'divorce': 1326, 'manifestation': 2722, 'confidence': 923, 'consequence': 944, 'gross': 2021, 'prevent': 3424, 'ocd': 3074, 'immense': 2248, 'multiple': 2917, 'reassurance': 3612, 'afterwards': 117, 'extent': 1652, 'fade': 1670, 'platonic': 3323, 'attract': 317, 'equally': 1541, 'approval': 246, 'validation': 4754, 'cure': 1085, 'ongoing': 3098, 'crisis': 1062, 'distance': 1313, 'angel': 189, 'cultural': 1081, 'warn': 4840, 'mutual': 2928, 'friendship': 1861, 'paranoid': 3196, 'cheat': 734, 'prince': 3433, 'vain': 4750, 'hurdle': 2213, 'conflict': 928, 'resolution': 3733, 'uni': 4685, 'severe': 3954, 'ex': 1590, 'illness': 2237, 'dead': 1126, 'fitness': 1760, 'buck': 584, 'freak': 1841, 'frame': 1835, 'betray': 449, 'asshole': 290, 'narcissistic': 2942, 'arrogant': 266, 'sabotage': 3832, 'lurk': 2689, 'forum': 1826, 'intend': 2370, 'proper': 3487, 'absence': 7, 'anonymous': 201, 'stranger': 4252, 'presence': 3416, 'scenario': 3877, 'depressive': 1199, 'headache': 2094, 'handful': 2058, 'connection': 937, 'deserve': 1207, 'crave': 1042, 'ill': 2235, 'japan': 2443, 'birth': 469, 'phd': 3280, 'engineer': 1505, 'unemployed': 4670, 'odd': 3077, 'direction': 1269, 'adulthood': 94, 'freedom': 1844, 'implement': 2254, 'nasty': 2945, 'protect': 3495, 'web': 4861, 'smarter': 4075, 'tom': 4533, 'magnetic': 2700, 'mostly': 2899, 'underlying': 4663, 'fair': 1676, 'interact': 2378, 'super': 4330, 'essence': 1556, 'introduction': 2403, 'bag': 366, 'as': 273, 'cheek': 738, 'smooth': 4084, 'seat': 3904, 'bright': 564, 'pool': 3360, 'bounce': 530, 'sing': 4035, 'shuffle': 4005, 'mode': 2871, 'centre': 697, 'gathering': 1912, 'loud': 2675, 'intimate': 2398, 'heck': 2115, 'forgive': 1814, 'bottle': 527, 'mature': 2760, 'talented': 4391, 'clothing': 817, 'album': 141, 'singing': 4037, 'phenomenal': 3281, 'surprising': 4348, 'shy': 4007, 'timing': 4512, 'honour': 2171, 'sad': 3834, 'confess': 921, 'possess': 3375, 'charisma': 725, 'killer': 2497, 'banter': 379, 'customer': 1095, 'lady': 2527, 'kiss': 2506, 'arm': 259, 'yep': 4983, 'bang': 377, 'likeable': 2612, 'damn': 1107, 'mask': 2744, 'inability': 2271, 'serial': 3938, 'making': 2712, 'surprised': 4347, 'inform': 2315, 'got': 1976, 'worse': 4952, 'recognise': 3622, 'successfully': 4306, 'comparison': 875, 'spell': 4166, 'shell': 3977, 'safety': 3839, 'awkward': 352, 'negatively': 2967, 'grammar': 1988, 'wander': 4833, 'reputation': 3715, 'typical': 4633, 'grumpy': 2028, 'immature': 2245, 'cheerful': 740, 'wan': 4832, 'cuz': 1098, 'laughter': 2547, 'pose': 3370, 'insane': 2332, 'following': 1800, 'adderall': 70, 'exact': 1591, 'abusive': 18, 'consciousness': 941, 'cripple': 1060, 'bout': 532, 'someday': 4120, 'porn': 3366, 'monday': 2882, 'loop': 2663, 'guidance': 2033, 'ive': 2436, 'facade': 1661, 'upset': 4725, 'passive': 3216, 'gpa': 1979, 'dont': 1342, 'pace': 3175, 'wont': 4936, 'sooo': 4133, 'cant': 648, 'silent': 4021, 'theres': 4469, 'scream': 3892, 'skin': 4050, 'thankful': 4455, 'inspired': 2345, 'amongst': 178, 'troll': 4603, 'haha': 2049, 'title': 4519, 'core': 1000, 'explore': 1642, 'recent': 3617, 'patch': 3221, 'cognitive': 834, 'preference': 3406, 'intuition': 2409, 'abstract': 11, 'introvert': 2406, 'race': 3556, 'gear': 1915, 'series': 3939, 'adventure': 99, 'camera': 638, 'constructive': 959, 'solution': 4117, 'logical': 2650, 'philosophical': 3284, 'shake': 3962, 'convenient': 980, 'recommendation': 3626, 'diary': 1245, 'entry': 1532, 'caution': 683, 'uplifting': 4720, 'claim': 783, 'paint': 3183, 'perpetual': 3263, 'emptiness': 1484, 'cover': 1031, 'wash': 4843, 'naked': 2936, 'consist': 950, 'tax': 4404, 'pity': 3310, 'advocate': 104, 'silently': 4022, 'empathize': 1475, 'motivation': 2905, 'absorb': 10, 'contrast': 976, 'understood': 4668, 'presentation': 3418, 'grip': 2017, 'lover': 2679, 'tactic': 4385, 'summary': 4323, 'cardone': 660, 'percentage': 3246, 'accurate': 40, 'anticipate': 207, 'greatly': 2005, 'disappointed': 1280, 'mediocre': 2788, 'guarantee': 2029, 'ultimately': 4641, 'extreme': 1657, 'ceiling': 689, 'reverse': 3763, 'conquer': 938, 'resolve': 3734, 'operate': 3104, 'expend': 1630, 'host': 2187, 'speaking': 4157, 'competition': 884, 'compete': 882, 'actual': 63, 'willingness': 4908, 'attribute': 321, 'oxygen': 3174, 'debate': 1136, 'breathe': 556, 'minimize': 2848, 'indicator': 2298, 'obligation': 3056, 'headspace': 2096, 'strict': 4265, 'maturity': 2761, 'naive': 2935, 'awful': 350, 'spoon': 4185, 'feed': 1716, 'ingrain': 2319, 'thus': 4497, 'counselor': 1018, 'analyze': 185, 'nowadays': 3034, 'india': 2295, 'punishment': 3523, 'string': 4269, 'junior': 2477, 'hectic': 2116, 'march': 2733, 'conservative': 946, 'working': 4942, 'ted': 4419, 'relief': 3680, 'hypothesis': 2220, 'stoic': 4239, 'buddhist': 587, 'formula': 1821, 'equal': 1540, 'analogy': 182, 'properly': 3488, 'jesus': 2450, 'christ': 768, 'automatic': 334, 'fearful': 1711, 'orient': 3126, 'serotonin': 3942, 'dread': 1376, 'phenomenon': 3282, 'lottery': 2674, 'paralyze': 3194, 'latter': 2545, 'destine': 1220, 'winner': 4915, 'burst': 607, 'bat': 394, 'normal': 3017, 'brief': 562, 'proven': 3502, 'religious': 3684, 'church': 775, 'conclusion': 914, 'poverty': 3390, 'income': 2283, 'drain': 1366, 'humility': 2205, 'forth': 1822, 'glimpse': 1953, 'awe': 348, 'reference': 3642, 'narcissism': 2940, 'importance': 2256, 'tale': 4389, 'inclined': 2281, 'reflection': 3646, 'discomfort': 1289, 'aggressive': 123, 'reactive': 3593, 'intention': 2375, 'dare': 1112, 'lens': 2586, 'ego': 1444, 'deem': 1153, 'instance': 2351, 'potentially': 3387, 'accepting': 25, 'crime': 1057, 'hateful': 2088, 'monk': 2886, 'requirement': 3719, 'bond': 509, 'react': 3591, 'worker': 4941, 'ant': 204, 'rant': 3576, 'honestly': 2167, 'starting': 4214, 'purely': 3528, 'fictional': 1733, 'rely': 3686, 'thats': 4459, 'coz': 1036, 'apology': 226, 'didnt': 1248, 'flirting': 1780, 'phase': 3279, 'labor': 2524, 'financially': 1748, 'swing': 4371, 'greet': 2009, 'service': 3945, 'accidentally': 29, 'chat': 732, 'oddly': 3078, 'guest': 2032, 'escort': 1553, 'graduate': 1985, 'bachelor': 356, 'literature': 2633, 'spanish': 4150, 'assistant': 294, 'elementary': 1456, 'client': 800, 'technical': 4415, 'script': 3895, 'unbearable': 4648, 'tedious': 4420, 'punch': 3521, 'sane': 3852, 'anyways': 218, 'african': 115, 'foreign': 1809, 'booze': 516, 'academic': 19, 'chase': 731, 'encouragement': 1489, 'fantastic': 1690, 'emphasize': 1478, 'frugal': 1866, 'enemy': 1497, 'breed': 558, 'critical': 1063, 'carry': 667, 'evolve': 1589, 'unconditionally': 4655, 'scrap': 3890, 'adapt': 67, 'request': 3716, 'flip': 1778, 'unproductive': 4705, 'initiative': 2326, 'peer': 3239, 'limitless': 2619, 'immerse': 2250, 'outlet': 3143, 'painting': 3184, 'thinker': 4475, 'greatness': 2006, 'ethic': 1566, 'stone': 4243, 'component': 899, 'idk': 2229, 'overwhelmed': 3166, 'fb': 1709, 'unhappy': 4683, 'joe': 2454, 'ban': 373, 'elite': 1458, 'transformation': 4577, 'millionaire': 2837, 'decade': 1140, 'literally': 2632, 'parasite': 3197, 'irl': 2420, 'fundamentally': 1890, 'exam': 1595, 'everywhere': 1585, 'monkey': 2887, 'pin': 3304, 'whim': 4894, 'irrational': 2423, 'loser': 2668, 'apologize': 225, 'length': 2584, 'vary': 4763, 'lastly': 2541, 'min': 2838, 'wage': 4822, 'overtime': 3163, 'isolate': 2430, 'resign': 3729, 'fate': 1701, 'drastically': 1372, 'semester': 3927, 'creep': 1054, 'impress': 2262, 'unresolved': 4708, 'economy': 1426, 'drag': 1365, 'luckily': 2685, 'solid': 4114, 'binge': 463, 'lame': 2529, 'unfortunately': 4678, 'obstacle': 3065, 'unfair': 4674, 'container': 964, 'pause': 3227, 'hello': 2120, 'faster': 1698, 'golden': 1964, 'moreover': 2896, 'trick': 4598, 'wallet': 4830, 'ace': 45, 'fault': 1704, 'swim': 4369, 'spite': 4179, 'industry': 2304, 'boil': 506, 'bartender': 384, 'staff': 4202, 'unaware': 4647, 'homeless': 2162, 'admire': 83, 'wing': 4914, 'hint': 2149, 'overly': 3157, 'manner': 2726, 'fog': 1794, 'correctly': 1008, 'baggage': 367, 'release': 3677, 'vision': 4803, 'balanced': 370, 'detach': 1225, 'steal': 4225, 'burden': 601, 'judgment': 2470, 'sin': 4031, 'forgiveness': 1815, 'rome': 3804, 'cautious': 684, 'slide': 4065, 'blend': 484, 'prosperity': 3493, 'reconnect': 3627, 'cast': 674, 'nut': 3046, 'sexual': 3957, 'enjoyment': 1512, 'fool': 1804, 'errand': 1548, 'implication': 2255, 'eternal': 1564, 'fluid': 1789, 'bone': 510, 'gladly': 1950, 'rap': 3577, 'white': 4898, 'glow': 1956, 'swear': 4362, 'incident': 2280, 'grandpa': 1993, 'soak': 4094, 'crumble': 1072, 'bedroom': 416, 'roommate': 3807, 'split': 4180, 'wallow': 4831, 'los': 2666, 'management': 2718, 'boss': 525, 'october': 3076, 'scared': 3874, 'intimidate': 2399, 'blissfully': 491, 'baby': 355, 'outgoing': 3142, 'closed': 810, 'legacy': 2578, 'ownership': 3173, 'mass': 2745, 'toward': 4552, 'firm': 1755, 'ought': 3133, 'regard': 3653, 'neighborhood': 2971, 'prison': 3441, 'honor': 2170, 'disregard': 1309, 'delivery': 1177, 'southern': 4146, 'communicate': 868, 'bland': 478, 'upbringing': 4714, 'fake': 1679, 'disrespectful': 1311, 'awkwardly': 353, 'dismiss': 1303, 'overthinking': 3162, 'unsure': 4711, 'overthink': 3161, 'retreat': 3757, 'throat': 4490, 'tight': 4502, 'grit': 2018, 'knot': 2516, 'interpret': 2391, 'antisocial': 209, 'freeze': 1848, 'beard': 406, 'ton': 4536, 'smash': 4077, 'tool': 4540, 'anxious': 211, 'upcoming': 4715, 'smell': 4078, 'combine': 852, 'amplify': 181, 'ride': 3774, 'lyric': 2693, 'shortcut': 3996, 'boring': 522, 'generic': 1923, 'specific': 4161, 'flash': 1767, 'initially': 2324, 'failing': 1673, 'bloody': 495, 'visualization': 4806, 'normally': 3018, 'linear': 2621, 'reset': 3727, 'juice': 2473, 'ryan': 3831, 'campus': 641, 'ferriss': 1726, 'mine': 2844, 'nope': 3015, 'ridiculous': 3776, 'imaginary': 2241, 'priority': 3440, 'squeeze': 4196, 'wow': 4962, 'reader': 3595, 'dot': 1351, 'happens': 2066, 'genuine': 1931, 'aforementioned': 113, 'lower': 2682, 'happily': 2069, 'grieving': 2013, 'shed': 3972, 'slump': 4072, 'anguish': 193, 'trash': 4583, 'rocket': 3796, 'yea': 4976, 'nap': 2939, 'vicious': 4783, 'catalyst': 678, 'drastic': 1371, 'victim': 4784, 'justification': 2480, 'halfway': 2053, 'sunlight': 4327, 'freaking': 1842, 'monetary': 2883, 'tremendous': 4593, 'reasonable': 3610, 'instinctively': 2357, 'whichever': 4892, 'spot': 4188, 'closer': 812, 'chew': 750, 'danger': 1110, 'insight': 2338, 'similarly': 4026, 'song': 4129, 'storm': 4247, 'cabin': 624, 'pressure': 3421, 'grandmother': 1992, 'continually': 970, 'grand': 1989, 'raw': 3588, 'blessed': 486, 'meaning': 2772, 'revolve': 3767, 'sky': 4054, 'cancer': 644, 'sacrifice': 3833, 'precious': 3402, 'mid': 2823, 'lifting': 2606, 'tumor': 4616, 'surgery': 4345, 'operation': 3105, 'treatment': 4591, 'dramatic': 1368, 'secondary': 3906, 'undergo': 4660, 'besides': 446, 'chemo': 746, 'dry': 1395, 'chop': 764, 'examine': 1596, 'paperwork': 3190, 'arguably': 254, 'beautifully': 411, 'miraculous': 2853, 'comeback': 854, 'mall': 2714, 'bold': 507, 'pierce': 3299, 'dangerous': 1111, 'cultivate': 1080, 'tube': 4613, 'appreciative': 242, 'notion': 3029, 'cash': 672, 'noble': 3004, 'perception': 3247, 'dance': 1108, 'curse': 1091, 'compassionate': 878, 'sadly': 3835, 'statement': 4218, 'chemical': 744, 'alter': 163, 'vegan': 4765, 'numerous': 3042, 'dwell': 1405, 'bitter': 474, 'pill': 3301, 'heavily': 2113, 'sour': 4143, 'attain': 311, 'ruin': 3821, 'knowing': 2518, 'coincidentally': 836, 'aspiration': 283, 'nonetheless': 3011, 'statistic': 4220, 'personally': 3270, 'approve': 247, 'morally': 2895, 'inferiority': 2310, 'blessing': 487, 'disclaimer': 1287, 'ramble': 3569, 'epiphany': 1538, 'straw': 4254, 'weak': 4853, 'exclude': 1614, 'destination': 1219, 'sweet': 4366, 'terrified': 4444, 'happiest': 2068, 'creation': 1048, 'steer': 4228, 'obsessive': 3063, 'homework': 2165, 'secondly': 3907, 'pro': 3446, 'con': 906, 'rain': 3565, 'wtf': 4969, 'smart': 4074, 'spending': 4168, 'conference': 920, 'motivational': 2906, 'allergic': 150, 'despise': 1217, 'leader': 2560, 'follower': 1799, 'sheep': 3973, 'align': 147, 'faith': 1678, 'crutch': 1074, 'worship': 4954, 'chosen': 766, 'mastery': 2750, 'performance': 3254, 'nugget': 3038, 'pocket': 3342, 'fraud': 1840, 'documentary': 1333, 'ray': 3589, 'unlike': 4697, 'speech': 4164, 'loyal': 2683, 'marry': 2742, 'loving': 2680, 'involved': 2418, 'preparation': 3411, 'confront': 929, 'relatively': 3672, 'lasting': 2540, 'role': 3797, 'damage': 1106, 'romantic': 3802, 'compassion': 877, 'instinct': 2356, 'substitute': 4299, 'streak': 4256, 'sobriety': 4098, 'wire': 4918, 'selfless': 3925, 'unhappiness': 4682, 'king': 2504, 'fulfil': 1876, 'whose': 4902, 'outward': 3148, 'chaos': 719, 'contract': 974, 'desirable': 1210, 'laziness': 2555, 'duality': 1396, 'wave': 4851, 'odds': 3079, 'expand': 1627, 'unmotivated': 4701, 'impulsive': 2270, 'furthermore': 1893, 'slack': 4056, 'strip': 4270, 'spiral': 4174, 'apathetic': 222, 'humor': 2206, 'nonsense': 3012, 'sedentary': 3913, 'meant': 2775, 'crap': 1039, 'attach': 307, 'objectively': 3054, 'eating': 1422, 'smoker': 4082, 'shopping': 3994, 'document': 1332, 'accountability': 37, 'contrary': 975, 'attachment': 309, 'sugar': 4313, 'dependency': 1192, 'disagree': 1276, 'identity': 2227, 'dilemma': 1261, 'financial': 1747, 'couch': 1012, 'crash': 1041, 'healing': 2098, 'distraction': 1317, 'tldr': 4521, 'badly': 365, 'unattractive': 4646, 'mcdonalds': 2769, 'makeup': 2711, 'surface': 4344, 'stagnant': 4204, 'complication': 897, 'prosperous': 3494, 'awhile': 351, 'tie': 4501, 'backwards': 360, 'progression': 3474, 'grind': 2016, 'retail': 3752, 'decline': 1147, 'equivalent': 1545, 'admission': 84, 'stressed': 4262, 'leap': 2565, 'western': 4880, 'abundant': 14, 'irrelevant': 2424, 'aspire': 284, 'aid': 133, 'select': 3921, 'accessible': 27, 'confused': 932, 'era': 1547, 'convey': 984, 'gratification': 2000, 'brave': 547, 'pillar': 3302, 'daydream': 1124, 'smartphone': 4076, 'scheme': 3882, 'clueless': 821, 'blind': 488, 'ghost': 1939, 'cycling': 1101, 'wealth': 4855, 'correlate': 1009, 'debilitate': 1137, 'meaningless': 2774, 'corporate': 1005, 'psyche': 3506, 'enjoyable': 1511, 'compromise': 902, 'toxic': 4555, 'address': 77, 'assert': 286, 'pleaser': 3334, 'vulnerable': 4821, 'prioritize': 3439, 'frustrating': 1870, 'promotion': 3482, 'inherent': 2321, 'weigh': 4871, 'losing': 2669, 'grab': 1980, 'socialize': 4101, 'mindfulness': 2841, 'witty': 4929, 'cue': 1078, 'charismatic': 726, 'learned': 2567, 'mechanism': 2782, 'skilled': 4049, 'tank': 4395, 'incorporate': 2286, 'darkness': 1115, 'alpha': 159, 'comic': 859, 'mobility': 2868, 'trade': 4560, 'cooler': 994, 'inadequate': 2274, 'nicer': 2996, 'accomplished': 32, 'leadership': 2561, 'adam': 66, 'resilience': 3730, 'organized': 3125, 'code': 830, 'ball': 371, 'mild': 2830, 'moderate': 2873, 'introspection': 2404, 'clarity': 785, 'increasingly': 2289, 'authentic': 329, 'spirituality': 4177, 'politics': 3356, 'disconnect': 1290, 'hidden': 2134, 'downright': 1357, 'masturbate': 2751, 'attraction': 318, 'egotistical': 1445, 'kinda': 2499, 'detrimental': 1232, 'football': 1807, 'tense': 4439, 'primary': 3432, 'transition': 4578, 'videogames': 4788, 'lab': 2522, 'rat': 3581, 'dopamine': 1346, 'setup': 3951, 'boom': 513, 'lifelong': 2602, 'optimize': 3115, 'societal': 4103, 'expectation': 1629, 'addictive': 73, 'november': 3033, 'waking': 4826, 'tragic': 4566, 'acceptable': 22, 'champ': 714, 'competitive': 885, 'victory': 4786, 'shield': 3981, 'sport': 4187, 'production': 3460, 'musician': 2924, 'obsessively': 3064, 'perfectionist': 3251, 'electronic': 1453, 'keyboard': 2491, 'studio': 4280, 'audio': 323, 'procrastination': 3456, 'coping': 998, 'ironic': 2421, 'equipment': 1544, 'sunday': 4326, 'weed': 4866, 'revise': 3766, 'dysfunctional': 1407, 'behavioral': 426, 'revelation': 3761, 'highlight': 2139, 'blueprint': 499, 'tap': 4397, 'unintentionally': 4687, 'tone': 4537, 'exert': 1620, 'assertive': 287, 'fundamental': 1889, 'versus': 4778, 'defensive': 1161, 'vocal': 4811, 'fleeting': 1772, 'intensity': 2373, 'gaze': 1914, 'leverage': 2594, 'judgmental': 2471, 'exceptionally': 1605, 'terrify': 4445, 'drunk': 1394, 'accumulate': 39, 'evidence': 1586, 'neglect': 2969, 'rejection': 3664, 'unimportant': 4686, 'provoke': 3504, 'awkwardness': 354, 'cashier': 673, 'cute': 1097, 'unrealistic': 4706, 'venue': 4772, 'embarrass': 1464, 'freeing': 1845, 'worthwhile': 4957, 'jordan': 2460, 'peterson': 3277, 'symptom': 4375, 'paranoia': 3195, 'intense': 2371, 'psych': 3505, 'alcoholic': 143, 'laundry': 2549, 'sympathy': 4374, 'context': 969, 'demon': 1181, 'drift': 1381, 'potato': 3385, 'asleep': 280, 'ed': 1429, 'substance': 4298, 'pleased': 3333, 'rehab': 3661, 'unacceptable': 4645, 'nag': 2933, 'purchase': 3526, 'intermittent': 2384, 'military': 2834, 'desperately': 1216, 'comedy': 855, 'robot': 3794, 'degrade': 1165, 'dedication': 1151, 'rage': 3564, 'loathe': 2643, 'toss': 4545, 'med': 2783, 'vague': 4749, 'biological': 465, 'injury': 2328, 'trauma': 4584, 'accountable': 38, 'navigate': 2952, 'void': 4814, 'enrich': 1516, 'relation': 3669, 'yield': 4987, 'blank': 479, 'bullying': 596, 'shiny': 3985, 'sword': 4373, 'criticize': 1065, 'offend': 3081, 'btw': 582, 'relaxed': 3675, 'roof': 3805, 'motorcycle': 2909, 'somewhere': 4127, 'rip': 3782, 'wolf': 4931, 'eve': 1573, 'deny': 1187, 'dearly': 1134, 'openly': 3103, 'flirt': 1779, 'sanity': 3853, 'spoil': 4181, 'beating': 409, 'boot': 515, 'compound': 900, 'breakup': 554, 'meltdown': 2797, 'steadily': 4223, 'cv': 1099, 'opening': 3102, 'tinder': 4514, 'profile': 3467, 'print': 3436, 'midnight': 2825, 'virtual': 4797, 'snapchat': 4088, 'norm': 3016, 'political': 3355, 'dialogue': 1243, 'data': 1116, 'info': 2314, 'cringe': 1059, 'agency': 119, 'platform': 3321, 'shadow': 3961, 'privacy': 3442, 'invisible': 2414, 'location': 2645, 'mobile': 2867, 'browser': 577, 'feature': 1713, 'download': 1356, 'messenger': 2814, 'notification': 3028, 'distract': 1316, 'happening': 2065, 'goofy': 1971, 'novelty': 3032, 'conspiracy': 955, 'necessarily': 2958, 'manic': 2720, 'disable': 1275, 'compulsive': 904, 'neat': 2957, 'tech': 4414, 'usage': 4735, 'primarily': 3431, 'refresh': 3649, 'downtime': 1359, 'toilet': 4527, 'lane': 2532, 'boredom': 521, 'west': 4879, 'condemn': 916, 'empathetic': 1474, 'horizon': 2179, 'insta': 2347, 'photography': 3288, 'engineering': 1506, 'developer': 1235, 'comfortably': 858, 'paycheck': 3229, 'cat': 677, 'lethargic': 2591, 'draft': 1364, 'related': 3668, 'active': 59, 'learner': 2568, 'discussion': 1297, 'bitch': 472, 'zombie': 4997, 'urgency': 4732, 'nod': 3006, 'atm': 304, 'oblige': 3058, 'scene': 3878, 'amazingly': 170, 'sober': 4097, 'relapse': 3666, 'perfectionism': 3250, 'progressively': 3475, 'wound': 4961, 'bike': 458, 'snowboard': 4092, 'kick': 2493, 'tattoo': 4402, 'sporadic': 4186, 'isnt': 2429, 'classic': 788, 'crappy': 1040, 'senior': 3929, 'calculus': 630, 'designer': 1209, 'bum': 597, 'wasnt': 4844, 'classroom': 791, 'percent': 3245, 'nightmare': 3001, 'couldnt': 1015, 'flunk': 1790, 'doom': 1343, 'eternity': 1565, 'spiritually': 4178, 'alright': 161, 'doesnt': 1334, 'excite': 1610, 'hire': 2151, 'detox': 1231, 'marijuana': 2735, 'diagnosis': 1242, 'timeline': 4510, 'consumption': 961, 'pee': 3237, 'hinder': 2147, 'required': 3718, 'se': 3898, 'redditors': 3636, 'cardio': 659, 'dude': 1397, 'groom': 2020, 'mic': 2821, 'fucking': 1874, 'needy': 2965, 'videos': 4789, 'handsome': 2061, 'extensive': 1651, 'maker': 2710, 'toy': 4557, 'plague': 3313, 'fascinate': 1694, 'united': 4691, 'optimism': 3112, 'recur': 3632, 'enroll': 1518, 'nurse': 3043, 'retain': 3753, 'performer': 3255, 'withdraw': 4924, 'compensate': 881, 'bowl': 534, 'fish': 1758, 'manipulative': 2725, 'traumatic': 4585, 'spring': 4192, 'stem': 4229, 'endless': 1493, 'fee': 1715, 'countless': 1022, 'antidepressant': 208, 'wean': 4857, 'private': 3443, 'dump': 1401, 'cocaine': 828, 'numb': 3039, 'practise': 3398, 'disown': 1307, 'sink': 4039, 'deadline': 1127, 'wine': 4913, 'whiskey': 4896, 'asap': 274, 'teen': 4421, 'breakthrough': 553, 'toll': 4532, 'rear': 3608, 'surely': 4342, 'unrelated': 4707, 'surroundings': 4353, 'asset': 289, 'starter': 4213, 'becomes': 414, 'fuel': 1875, 'impose': 2259, 'hardly': 2077, 'depressing': 1197, 'humanity': 2203, 'spent': 4170, 'hometown': 2164, 'rekindle': 3665, 'rough': 3811, 'endure': 1496, 'introspective': 2405, 'conclude': 913, 'resentment': 3725, 'altogether': 166, 'realization': 3603, 'manson': 2727, 'confirmation': 927, 'manipulate': 2723, 'uncover': 4658, 'layer': 2554, 'ambition': 172, 'organization': 3123, 'realistic': 3601, 'unlimited': 4699, 'asia': 276, 'stabilize': 4199, 'abroad': 6, 'guitar': 2037, 'sharp': 3969, 'muster': 2927, 'derail': 1202, 'stream': 4257, 'highschool': 2141, 'namely': 2938, 'fling': 1777, 'tackle': 4383, 'reflective': 3647, 'journaling': 2462, 'wasted': 4846, 'occupy': 3072, 'psychologically': 3511, 'succumb': 4307, 'downward': 1361, 'workload': 4943, 'tragedy': 4565, 'thrive': 4489, 'discontent': 1291, 'youth': 4992, 'temptation': 4433, 'bubble': 583, 'welcome': 4875, 'supportive': 4338, 'enlightenment': 1513, 'interfere': 2383, 'rationalize': 3586, 'hormone': 2180, 'resort': 3736, 'masturbation': 2752, 'complicated': 896, 'fond': 1802, 'fetish': 1728, 'hung': 2209, 'haunt': 2090, 'nofap': 3007, 'beam': 403, 'twist': 4628, 'cookie': 990, 'basement': 387, 'utilize': 4744, 'appearance': 232, 'cross': 1067, 'ultimate': 4640, 'plug': 3339, 'scale': 3868, 'retirement': 3756, 'euphoria': 1567, 'goddamn': 1961, 'lying': 2692, 'fourth': 1833, 'technically': 4416, 'jack': 2437, 'rack': 3559, 'employ': 1479, 'cynical': 1102, 'silver': 4024, 'snow': 4091, 'stare': 4211, 'playlist': 3327, 'brown': 575, 'steam': 4226, 'mixed': 2864, 'hammer': 2056, 'scrub': 3897, 'bro': 570, 'ruminate': 3823, 'sincerely': 4034, 'severely': 3955, 'intellectually': 2367, 'corporation': 1006, 'recall': 3615, 'stimulate': 4235, 'fascinating': 1695, 'compass': 876, 'fragile': 1834, 'eager': 1409, 'adopt': 87, 'helpless': 2124, 'inaction': 2272, 'attainable': 312, 'barrier': 383, 'narrow': 2944, 'gate': 1910, 'mysterious': 2930, 'consequently': 945, 'protection': 3496, 'warning': 4841, 'tangible': 4394, 'signal': 4016, 'irritate': 2427, 'imbalance': 2244, 'unconditional': 4654, 'mainly': 2703, 'forest': 1810, 'outgo': 3141, 'fortunate': 1823, 'introverted': 2407, 'loneliness': 2655, 'celebrate': 690, 'experienced': 1634, 'superficial': 4331, 'pedestal': 3236, 'yay': 4975, 'salt': 3846, 'affection': 110, 'completion': 893, 'blur': 501, 'invent': 2411, 'harmful': 2081, 'childish': 756, 'behave': 424, 'additional': 75, 'dirty': 1273, 'willingly': 4907, 'teenage': 4422, 'dawn': 1122, 'hopeless': 2177, 'unfamiliar': 4675, 'equation': 1542, 'entitle': 1528, 'deprive': 1200, 'expert': 1636, 'excel': 1599, 'athlete': 301, 'gold': 1963, 'lining': 2623, 'hill': 2146, 'trial': 4596, 'inevitably': 2306, 'obligate': 3055, 'harness': 2083, 'exploit': 1640, 'puppy': 3525, 'princess': 3434, 'wed': 4863, 'highway': 2142, 'south': 4145, 'juggle': 2472, 'crystal': 1076, 'paralysis': 3193, 'dignity': 1260, 'repair': 3702, 'distant': 1315, 'noon': 3014, 'reevaluate': 3640, 'tempt': 4432, 'relive': 3685, 'evening': 1575, 'restore': 3747, 'saying': 3867, 'expose': 1644, 'tender': 4437, 'black': 475, 'mutually': 2929, 'disagreement': 1277, 'counseling': 1017, 'rope': 3809, 'warm': 4838, 'thoughtful': 4482, 'flavor': 1770, 'skincare': 4051, 'narcissist': 2941, 'crippling': 1061, 'instability': 2348, 'mediocrity': 2789, 'flower': 1788, 'determination': 1229, 'shine': 3984, 'uber': 4636, 'efficient': 1438, 'continuous': 972, 'butterfly': 615, 'float': 1781, 'effortlessly': 1441, 'specie': 4160, 'appetite': 233, 'century': 698, 'ancestor': 186, 'decently': 1143, 'excessive': 1607, 'praise': 3399, 'broad': 571, 'radiate': 3561, 'endlessly': 1494, 'wild': 4905, 'friends': 1860, 'actor': 62, 'inevitable': 2305, 'certainty': 704, 'ship': 3986, 'instruction': 2358, 'mail': 2701, 'virtually': 4798, 'basket': 391, 'soldier': 4111, 'fighting': 1738, 'oppose': 3109, 'coworkers': 1035, 'poke': 3349, 'committed': 866, 'indifference': 2299, 'befriend': 419, 'chamber': 713, 'employee': 1480, 'owner': 3172, 'recharge': 3619, 'ceo': 699, 'cleanliness': 795, 'educational': 1434, 'horror': 2183, 'overflow': 3153, 'visualize': 4807, 'nicely': 2995, 'donate': 1341, 'charity': 727, 'stock': 4238, 'noticeable': 3027, 'energize': 1499, 'twenty': 4625, 'diminish': 1263, 'spin': 4172, 'slice': 4064, 'tune': 4617, 'detailed': 1227, 'ponder': 3359, 'female': 1724, 'rewire': 3769, 'audiobooks': 324, 'anthony': 205, 'robbins': 3793, 'giant': 1940, 'badass': 364, 'map': 2731, 'harry': 2084, 'karma': 2483, 'span': 4149, 'virus': 4800, 'programmer': 3471, 'upload': 4721, 'exposure': 1645, 'captain': 654, 'category': 680, 'primal': 3430, 'yellow': 4982, 'violate': 4792, 'bomb': 508, 'electricity': 1452, 'ai': 132, 'exploration': 1641, 'upper': 4723, 'boat': 504, 'handicap': 2059, 'shes': 3980, 'penny': 3241, 'bill': 459, 'convert': 983, 'disability': 1274, 'investment': 2413, 'there': 4467, 'civil': 782, 'relaxing': 3676, 'adore': 91, 'overwork': 3168, 'sore': 4135, 'description': 1206, 'weirdly': 4874, 'net': 2980, 'gosh': 1974, 'register': 3656, 'drum': 1393, 'knee': 2511, 'toe': 4525, 'frequency': 1850, 'mildly': 2831, 'metal': 2817, 'cbt': 687, 'minor': 2850, 'sheer': 3974, 'population': 3365, 'sweep': 4365, 'disappoint': 1279, 'toast': 4522, 'subscriber': 4295, 'medicine': 2787, 'thrill': 4488, 'gas': 1908, 'proudly': 3500, 'casually': 676, 'uncertain': 4650, 'tasty': 4401, 'skip': 4053, 'classmate': 790, 'lightly': 2610, 'adhd': 79, 'utterly': 4746, 'xanax': 4970, 'seasonal': 3903, 'meth': 2819, 'county': 1024, 'atleast': 303, 'non': 3009, 'alot': 158, 'winter': 4916, 'down': 1354, 'pint': 3306, 'vodka': 4812, 'poorly': 3362, 'smiling': 4080, 'grandma': 1991, 'appointment': 238, 'relieve': 3681, 'meantime': 2776, 'golf': 1965, 'cab': 623, 'secretly': 3909, 'band': 375, 'older': 3094, 'perfection': 3249, 'fashion': 1696, 'wheel': 4887, 'newfound': 2990, 'pornography': 3367, 'temporarily': 4430, 'albeit': 140, 'vanish': 4759, 'obtain': 3066, 'remotely': 3696, 'integrity': 2365, 'sponsor': 4183, 'persona': 3267, 'loom': 2662, 'liar': 2596, 'craving': 1043, 'irritable': 2426, 'recovery': 3630, 'clue': 820, 'repress': 3714, 'thankfully': 4456, 'demotivated': 1183, 'harsh': 2085, 'sometime': 4124, 'adrenaline': 92, 'remorse': 3694, 'chapter': 721, 'beloved': 438, 'prayer': 3401, 'wouldnt': 4960, 'deteriorate': 1228, 'everytime': 1584, 'nonstop': 3013, 'arent': 253, 'ugh': 4637, 'compatible': 879, 'he': 2092, 'buddy': 588, 'official': 3085, 'giddy': 1941, 'cheesy': 742, 'ya': 4972, 'freshman': 1854, 'efficiently': 1439, 'processing': 3454, 'practicing': 3397, 'farm': 1693, 'burnt': 606, 'meanwhile': 2777, 'cage': 628, 'apparent': 228, 'knock': 2515, 'shove': 4001, 'awareness': 346, 'dreamer': 1379, 'restrict': 3748, 'induce': 2302, 'drown': 1391, 'exceed': 1598, 'tunnel': 4618, 'xbox': 4971, 'divine': 1324, 'appropriate': 245, 'refine': 3644, 'considerate': 948, 'colour': 849, 'certificate': 705, 'ladder': 2526, 'flaw': 1771, 'friction': 1855, 'tour': 4550, 'yearn': 4980, 'liver': 2637, 'unfulfilled': 4679, 'procedure': 3451, 'organ': 3120, 'worsen': 4953, 'rural': 3827, 'delay': 1167, 'tree': 4592, 'lost': 2671, 'whatnot': 4884, 'habitual': 2046, 'upvote': 4728, 'repetition': 3706, 'acceptance': 23, 'mechanic': 2781, 'conduct': 919, 'anchor': 187, 'authority': 331, 'nerd': 2975, 'garage': 1904, 'marketing': 2739, 'unit': 4690, 'persevere': 3264, 'delusion': 1178, 'playing': 3326, 'fulfill': 1877, 'stable': 4200, 'illegal': 2236, 'prescription': 3415, 'disguise': 1299, 'betterment': 451, 'feat': 1712, 'aesthetic': 106, 'measurable': 2778, 'spectrum': 4163, 'lb': 2557, 'outline': 3144, 'theme': 4462, 'extended': 1649, 'japanese': 2444, 'texted': 4451, 'grasp': 1997, 'sibling': 4009, 'discord': 1292, 'candy': 646, 'halloween': 2055, 'rediscover': 3637, 'hype': 2219, 'supplement': 4335, 'command': 861, 'estate': 1560, 'foolish': 1805, 'forge': 1812, 'shrink': 4004, 'realm': 3606, 'artistic': 272, 'climate': 801, 'ridicule': 3775, 'heartbroken': 2109, 'clarify': 784, 'oneself': 3097, 'backstory': 359, 'aa': 0, 'officially': 3086, 'injure': 2327, 'sexually': 3959, 'assault': 285, 'overdose': 3151, 'inappropriate': 2275, 'fatigue': 1703, 'martial': 2743, 'dancing': 1109, 'breeze': 559, 'shyness': 4008, 'beside': 445, 'friday': 1856, 'campaign': 640, 'retake': 3754, 'jazz': 2446, 'sexuality': 3958, 'tbh': 4405, 'lol': 2652, 'compulsion': 903, 'sarcastic': 3855, 'eachother': 1408, 'neurotic': 2985, 'bf': 453, 'graphic': 1996, 'alex': 146, 'virginity': 4796, 'bc': 401, 'firstly': 1757, 'ig': 2230, 'lmao': 2640, 'critique': 1066, 'guys': 2043, 'kink': 2505, 'texts': 4453, 'ache': 46, 'retrospect': 3758, 'mere': 2809, 'belt': 439, 'shin': 3983, 'sunny': 4328, 'afternoon': 116, 'disturb': 1319, 'increased': 2288, 'san': 3849, 'phrase': 3289, 'frown': 1864, 'waiting': 4824, 'hopeful': 2175, 'factory': 1669, 'choke': 762, 'nearby': 2955, 'slam': 4057, 'discourage': 1294, 'sting': 4237, 'bicycle': 456, 'whisper': 4897, 'disappointment': 1282, 'litter': 2634, 'postpone': 3382, 'pipe': 3307, 'vomit': 4817, 'bridge': 561, 'york': 4990, 'christmas': 770, 'van': 4758, 'valley': 4755, 'construction': 958, 'river': 3788, 'declare': 1146, 'tall': 4393, 'accurately': 41, 'fantasize': 1689, 'leisure': 2582, 'grandparent': 1994, 'abandonment': 2, 'supervisor': 4334, 'hunger': 2210, 'tongue': 4538, 'propel': 3486, 'schoolwork': 3885, 'dip': 1266, 'arrest': 264, 'pregnant': 3408, 'atmosphere': 305, 'bath': 396, 'inch': 2279, 'sparkle': 4154, 'nephew': 2974, 'intensely': 2372, 'tow': 4551, 'prospect': 3491, 'satisfied': 3859, 'advisor': 103, 'told': 4529, 'tuition': 4615, 'cod': 829, 'instill': 2355, 'election': 1450, 'racial': 3557, 'wholesome': 4901, 'toxicity': 4556, 'kitten': 2508, 'creepy': 1055, 'lease': 2571, 'stroke': 4272, 'remission': 3693, 'diabetes': 1240, 'kidney': 2495, 'diego': 1250, 'ta': 4379, 'vaping': 4760, 'softly': 4109, 'monotonous': 2888, 'bust': 611, 'hr': 2197, 'tightly': 4503, 'boulder': 529, 'selection': 3922, 'entertain': 1521, 'divert': 1322, 'additionally': 76, 'remote': 3695, 'discount': 1293, 'exchange': 1609, 'economic': 1424, 'infusion': 2317, 'sheet': 3975, 'linger': 2622, 'keto': 2489, 'careless': 665, 'hungry': 2211, 'unpleasant': 4704, 'useless': 4739, 'lap': 2534, 'threat': 4485, 'sow': 4147, 'brings': 569, 'cease': 688, 'package': 3177, 'horse': 2184, 'coaster': 826, 'throwaway': 4493, 'coast': 825, 'pub': 3515, 'bonus': 511, 'cannabis': 647, 'embarrassment': 1467, 'tooth': 4541, 'overeat': 3152, 'sugary': 4314, 'deposit': 1194, 'medicate': 2785, 'learnt': 2570, 'qualification': 3537, 'marathon': 2732, 'impatient': 2253, 'denial': 1184, 'lawyer': 2552, 'qualify': 3538, 'radiant': 3560, 'envision': 1535, 'syndrome': 4376, 'curb': 1084, 'wellness': 4878, 'loner': 2657, 'suburb': 4301, 'chicago': 751, 'prom': 3477, 'modest': 2876, 'wfh': 4882, 'radio': 3563, 'drama': 1367, 'piss': 3308, 'merry': 2811, 'acid': 50, 'ritalin': 3786, 'yearly': 4979, 'twitch': 4629, 'grin': 2015, 'confirm': 926, 'soften': 4108, 'brighten': 565, 'le': 2558, 'brace': 541, 'agreement': 129, 'underlie': 4662, 'translate': 4579, 'nation': 2946, 'scientist': 3888, 'hustle': 2217, 'tin': 4513, 'stoicism': 4240, 'german': 1934, 'frankl': 1838, 'camp': 639, 'assessment': 288, 'differentiate': 1254, 'tribe': 4597, 'chef': 743, 'claw': 792, 'autism': 332, 'solely': 4113, 'shout': 4000, 'dope': 1347, 'lengthy': 2585, 'criminal': 1058, 'largely': 2537, 'chaotic': 720, 'ungrateful': 4681, 'outright': 3146, 'gaslighting': 1909, 'defeat': 1158, 'anniversary': 197, 'belittle': 433, 'recruiter': 3631, 'arrange': 263, 'sneak': 4089, 'confusion': 933, 'capital': 653, 'infinitely': 2312, 'vice': 4782, 'versa': 4776, 'risky': 3785, 'clinically': 807, 'december': 1141, 'functional': 1886, 'accustom': 43, 'squat': 4195, 'quietly': 3549, 'weekday': 4868, 'saturday': 3861, 'tab': 4380, 'kinder': 2500, 'vibe': 4781, 'vulnerability': 4820, 'nest': 2979, 'downhill': 1355, 'pedal': 3235, 'color': 847, 'intellectual': 2366, 'steep': 4227, 'meditating': 2791, 'drank': 1370, 'ppl': 3393, 'scent': 3880, 'toddler': 4524, 'cuddle': 1077, 'apologise': 224, 'grave': 2002, 'clash': 786, 'gender': 1917, 'aspergers': 282, 'ptsd': 3514, 'disclose': 1288, 'overload': 3155, 'unfulfilling': 4680, 'romance': 3801, 'berate': 444, 'rubbish': 3819, 'bin': 461, 'festival': 1727, 'rationally': 3587, 'opt': 3111, 'healthcare': 2100, 'salad': 3842, 'proactive': 3447, 'flex': 1773, 'hostile': 2188, 'resist': 3731, 'bleak': 482, 'dm': 1327, 'bury': 608, 'nothingness': 3025, 'grad': 1982, 'insurance': 2363, 'understatement': 4667, 'hospitalize': 2186, 'dean': 1132, 'withdrawal': 4925, 'exceptional': 1604, 'fellow': 1722, 'iv': 2435, 'divide': 1323, 'division': 1325, 'coaching': 824, 'reasonably': 3611, 'medical': 2784, 'unusual': 4712, 'unexpectedly': 4673, 'anime': 196, 'darker': 1114, 'cream': 1046, 'accompany': 30, 'yo': 4988, 'fold': 1795, 'calmness': 636, 'baseline': 386, 'internal': 2385, 'mini': 2846, 'queen': 3543, 'parking': 3201, 'rental': 3700, 'rabbit': 3555, 'florida': 1784, 'rescue': 3720, 'insist': 2341, 'allowance': 153, 'endorphin': 1495, 'nutrient': 3047, 'lock': 2646, 'september': 3937, 'pomodoro': 3357, 'marcus': 2734, 'aurelius': 327, 'helplessness': 2125, 'respectful': 3739, 'cooperate': 995, 'framework': 1836, 'monthly': 2891, 'worksheet': 4946, 'portfolio': 3368, 'cap': 649, 'tolerance': 4530, 'checklist': 737, 'february': 1714, 'downtown': 1360, 'reliable': 3679, 'mixture': 2865, 'enthusiasm': 1523, 'beg': 420, 'spotify': 4189, 'rinse': 3781, 'january': 2442, 'accustomed': 44, 'daunt': 1120, 'unpack': 4703, 'hesitant': 2129, 'garbage': 1905, 'individually': 2301, 'agenda': 120, 'spill': 4171, 'nicotine': 2997, 'autopilot': 336, 'melt': 2796, 'id': 2222, 'startup': 4215, 'used': 4737, 'encouraging': 1490, 'temple': 4429, 'coworker': 1034, 'bored': 520, 'unfortunate': 4677, 'lessen': 2588, 'predict': 3403, 'alongside': 157, 'wellbeing': 4877, 'dimension': 1262, 'survey': 4354, 'mindlessly': 2842, 'grudge': 2027, 'thursday': 4496, 'pls': 3338, 'burnout': 605, 'prescribe': 3414, 'migraine': 2829, 'ignorance': 2231, 'cathartic': 681, 'trajectory': 4573, 'cruise': 1071, 'assist': 293, 'vow': 4819, 'broke': 572, 'stride': 4267, 'internalize': 2386, 'trivial': 4602, 'sleeve': 4062, 'spoken': 4182, 'married': 2741, 'verbally': 4774, 'custody': 1094, 'tuesday': 4614, 'wednesday': 4865, 'abused': 16, 'chinese': 758, 'court': 1029, 'fought': 1829, 'aggression': 122, 'hatred': 2089, 'opiate': 3106, 'dealer': 1130, 'chuckle': 773, 'wrap': 4963, 'heat': 2111, 'frozen': 1865, 'clinic': 805, 'bump': 599, 'stray': 4255, 'thesis': 4470, 'slap': 4058, 'unstable': 4709, 'fence': 1725, 'ken': 2488, 'circuit': 778, 'eastern': 1419, 'metaphor': 2818, 'evolution': 1588, 'companion': 872, 'upside': 4726, 'af': 107, 'policy': 3351, 'tho': 4479, 'convos': 988, 'nude': 3037, 'nourish': 3030, 'flag': 1766, 'independence': 2293, 'liberate': 2597, 'aint': 135, 'convo': 987, 'rts': 3817, 'soccer': 4099, 'knife': 2513, 'pussy': 3534, 'disappointing': 1281, 'hearing': 2106, 'embarrassing': 1466, 'terror': 4447, 'courageous': 1027, 'graduation': 1987, 'frighten': 1862, 'insult': 2362, 'adoption': 88, 'april': 250, 'simultaneously': 4030, 'consideration': 949, 'artificial': 270, 'complaint': 890, 'outfit': 3140, 'undo': 4669, 'grim': 2014, 'regulate': 3660, 'defense': 1160, 'colorado': 848, 'homelessness': 2163, 'manual': 2729, 'autistic': 333, 'solidify': 4115, 'ideally': 2225, 'ambitious': 173, 'cleaning': 794, 'bean': 404, 'explode': 1639, 'rn': 3789, 'hilarious': 2145, 'blunt': 500, 'accepted': 24, 'gay': 1913, 'participant': 3204, 'east': 1418, 'missed': 2859, 'impressive': 2264, 'therapeutic': 4464, 'bacon': 362, 'rating': 3584, 'nightly': 3000, 'electronics': 1454, 'aka': 138, 'michael': 2822, 'cough': 1013, 'grown': 2025, 'lotion': 2673, 'brighter': 566, 'blanket': 480, 'dictate': 1247, 'rainy': 3567, 'immune': 2251, 'counterproductive': 1021, 'profit': 3468, 'profession': 3463, 'summarize': 4322, 'emergency': 1470, 'avatar': 338, 'hardworking': 2079, 'superpower': 4333, 'beginner': 422, 'temper': 4427, 'bumble': 598, 'politely': 3354, 'narrative': 2943, 'traumatize': 4586, 'outburst': 3136, 'dick': 1246, 'genetic': 1925, 'simplify': 4028, 'flexible': 1775, 'dissect': 1312, 'limiting': 2618, 'cartoon': 669, 'magically': 2699, 'scare': 3873, 'inadequacy': 2273, 'flexibility': 1774, 'evaluation': 1572, 'hierarchy': 2137, 'metabolism': 2816, 'aerobic': 105, 'intimacy': 2397, 'workshop': 4947, 'dependence': 1191, 'buying': 618, 'visible': 4802, 'contest': 968, 'setback': 3948, 'glory': 1955, 'insanely': 2333, 'isolation': 2431, 'initiate': 2325, 'gesture': 1936, 'blush': 502, 'reciprocate': 3621, 'girls': 1947, 'boys': 539, 'hangout': 2063, 'salty': 3847, 'memorable': 2801, 'resentful': 3724, 'consecutive': 942, 'diploma': 1267, 'stubborn': 4277, 'improv': 2265, 'germany': 1935, 'theatre': 4461, 'renew': 3698, 'membership': 2799, 'log': 2648, 'havent': 2091, 'cheating': 735, 'prep': 3410, 'strictly': 4266, 'legitimately': 2581, 'breaking': 552, 'quarter': 3542, 'beast': 407, 'separation': 3936, 'ski': 4047, 'overjoy': 3154, 'emerge': 1469, 'mouse': 2911, 'unlikely': 4698, 'refund': 3650, 'slave': 4059, 'elaborate': 1448, 'exaggerate': 1593, 'prone': 3484, 'instrumentals': 2361, 'poem': 3345, 'ged': 1916, 'graduating': 1986, 'gotten': 1977, 'disaster': 1283, 'needless': 2964, 'transportation': 4581, 'jobless': 2453, 'honeymoon': 2169, 'overreact': 3159, 'escalate': 1550, 'kg': 2492, 'counsel': 1016, 'imposter': 2261, 'numbness': 3041, 'housing': 2195, 'gardening': 1907, 'vet': 4779, 'facility': 1666, 'vitamin': 4809, 'sock': 4105, 'drawer': 1374, 'leftover': 2576, 'champion': 715, 'closet': 813, 'drill': 1382, 'deaf': 1128, 'motivating': 2904, 'prepared': 3413, 'suitable': 4320, 'applicable': 235, 'slim': 4068, 'classify': 789, 'mob': 2866, 'closing': 814, 'bawl': 400, 'sorta': 4139, 'skinny': 4052, 'thc': 4460, 'supply': 4336, 'abandon': 1, 'surrender': 4351, 'ran': 3571, 'gal': 1898, 'gorgeous': 1973, 'quiz': 3553, 'workbook': 4940, 'calmly': 635, 'thumb': 4495, 'cuss': 1093, 'brick': 560, 'wedding': 4864, 'drinker': 1384, 'faint': 1675, 'regain': 3652, 'stack': 4201, 'superior': 4332, 'england': 1507, 'wet': 4881, 'atomic': 306, 'sustainable': 4360, 'tracker': 4559, 'enforce': 1501, 'logically': 2651, 'added': 69, 'cheese': 741, 'ounce': 3134, 'europe': 1569, 'prioritise': 3438, 'attached': 308, 'facetime': 1664, 'yr': 4994, 'valentine': 4751, 'interrupt': 2393, 'fulfilment': 1881, 'intrusive': 2408, 'jaw': 2445, 'own': 3171, 'engine': 1504, 'leaf': 2562, 'agent': 121, 'award': 344, 'aunt': 326, 'tantrum': 4396, 'hopelessness': 2178, 'adequate': 78, 'searching': 3901, 'annual': 200, 'hip': 2150, 'cancel': 643, 'batch': 395, 'slept': 4063, 'cbd': 686, 'frequent': 1851, 'sexy': 3960, 'dealt': 1131, 'consent': 943, 'out': 3135, 'sat': 3856, 'oil': 3090, 'territory': 4446, 'surreal': 4350, 'ect': 1428, 'fandom': 1688, 'knit': 2514, 'blown': 497, 'protective': 3497, 'harass': 2072, 'karr': 2484, 'embarrassed': 1465, 'meme': 2800, 'accuse': 42, 'peep': 3238, 'innocent': 2330, 'coincidence': 835, 'violent': 4794, 'jog': 2455, 'romantically': 3803, 'dismissive': 1304, 'soo': 4130, 'asian': 277, 'coat': 827, 'sophomore': 4134, 'instructor': 2359, 'stab': 4197, 'bowling': 535, 'snake': 4086, 'racist': 3558, 'mcdonald': 2768, 'lurker': 2690, 'australia': 328, 'fame': 1682, 'kitty': 2509, 'grieve': 2012, 'lighter': 2609, 'amp': 180, 'pink': 3305, 'rainbow': 3566, 'armor': 260, 'lemon': 2583, 'specialist': 4159, 'doormat': 1345, 'em': 1461, 'doable': 1329, 'haircut': 2051, 'lighten': 2608, 'spontaneous': 4184, 'mistreat': 2862, 'pond': 3358, 'physique': 3293, 'announce': 198, 'kindergarten': 2501, 'scholarship': 3883, 'rapidly': 3578, 'thanksgiving': 4458, 'stalk': 4206, 'overseas': 3160, 'borrow': 523, 'er': 1546, 'believing': 432, 'running': 3826, 'jail': 2439, 'redditor': 3635, 'offensive': 3082, 'singer': 4036, 'relieved': 3682, 'cereal': 700, 'radical': 3562, 'wary': 4842, 'interpretation': 2392, 'competent': 883, 'runescape': 3825, 'infection': 2308, 'warehouse': 4837, 'eg': 1442, 'yt': 4995, 'balloon': 372, 'nerdy': 2976, 'sauce': 3862, 'sens': 3930, 'neighbour': 2972, 'confrontation': 930, 'formal': 1817, 'chemistry': 745, 'doc': 1330, 'avoidant': 342, 'tw': 4623, 'console': 954, 'hiking': 2144, 'grey': 2010, 'mathematics': 2757, 'lockdown': 2647, 'liquid': 2626, 'cave': 685, 'hiding': 2136, 'nurture': 3045, 'biology': 466, 'corona': 1003, 'quarantine': 3541, 'lake': 2528, 'hindsight': 2148, 'scenery': 3879, 'entirety': 1527, 'partially': 3203, 'fasting': 1699, 'incel': 2278, 'significance': 4017, 'pregnancy': 3407, 'station': 4219, 'lone': 2654, 'intrinsic': 2400, 'co': 822, 'playstation': 3328, 'blah': 476, 'hostility': 2189, 'goodnight': 1970, 'coronavirus': 1004, 'trans': 4574, 'brutal': 581, 'alcoholism': 144, 'appreciated': 240, 'pushup': 3533, 'gently': 1930, 'massively': 2748, 'dosage': 1349, 'moderation': 2874, 'covid': 1032, 'hunt': 2212, 'unemployment': 4671, 'distancing': 1314, 'pat': 3220, 'director': 1271, 'tik': 4504, 'tok': 4528, 'zoom': 4999, 'airport': 137, 'exercising': 1619, 'replay': 3710, 'abuser': 17, 'commission': 863, 'approximately': 248, 'heartbreak': 2108, 'anti': 206, 'trailer': 4568, 'lip': 2625, 'skate': 4046, 'victorian': 4785, 'mock': 2869, 'tiktok': 4505, 'probation': 3449, 'subside': 4297, 'coward': 1033, 'congratulation': 935, 'cart': 668, 'union': 4688, 'undergrad': 4661, 'apprentice': 243, 'agreeable': 128, 'lawn': 2551, 'spar': 4151, 'bleed': 483, 'interruption': 2394, 'acne': 52, 'bug': 590, 'instrument': 2360, 'translation': 4580, 'sea': 3899, 'domestic': 1338, 'lizard': 2639, 'seizure': 3920, 'cried': 1056, 'pessimist': 3273, 'judgemental': 2469, 'unsupportive': 4710, 'ing': 2318, 'goggins': 1962, 'bio': 464, 'freelance': 1846, 'usa': 4734, 'economics': 1425, 'actionable': 58, 'ecstatic': 1427, 'echo': 1423, 'yall': 4973, 'valid': 4752, 'clingy': 804, 'admittedly': 86, 'grandfather': 1990, 'indian': 2296, 'psychedelics': 3507, 'fever': 1729, 'fixate': 1764, 'unfold': 4676, 'fiber': 1731, 'upbeat': 4713, 'dynamic': 1406, 'peter': 3276, 'byron': 621, 'katie': 2485, 'endeavor': 1492, 'publication': 3517, 'blast': 481, 'confide': 922, 'soundcloud': 4142, 'cabinet': 625, 'rub': 3818, 'rose': 3810, 'entrance': 1530, 'flashback': 1768, 'sunshine': 4329, 'massage': 2746, 'bake': 368, 'sham': 3965, 'discharge': 1284, 'propose': 3490, 'strain': 4250, 'codependent': 831, 'daddy': 1104, 'agoraphobia': 126, 'enrol': 1517, 'invalidate': 2410, 'equip': 1543, 'closure': 815, 'sam': 3848, 'france': 1837, 'trudge': 4606, 'bowel': 533, 'rep': 3701, 'heel': 2117, 'bucket': 585, 'parenting': 3199, 'psycho': 3509, 'sob': 4096, 'hardcore': 2074, 'stillness': 4233, 'twin': 4627, 'deli': 1170, 'intent': 2374, 'fomo': 1801, 'physic': 3290, 'reel': 3639, 'teammate': 4411, 'ultra': 4642, 'km': 2510, 'midterm': 2827, 'kindly': 2502, 'roller': 3799, 'plead': 3329, 'excess': 1606, 'sweetheart': 4367, 'omg': 3095, 'externally': 1654, 'indicate': 2297, 'bye': 620, 'ofc': 3080, 'village': 4791, 'invitation': 2415, 'fuzzy': 1896, 'estimate': 1562, 'vaccine': 4748, 'orange': 3117, 'lgbt': 2595, 'cent': 694, 'ward': 4836, 'marine': 2736, 'fitting': 1761, 'chakras': 709, 'helmet': 2121, 'bass': 392, 'typo': 4635, 'pup': 3524, 'shepherd': 3979, 'ceremony': 701, 'ut': 4743, 'domain': 1337, 'soap': 4095, 'resident': 3728, 'vote': 4818, 'canada': 642, 'cherry': 748, 'stoke': 4241, 'hiring': 2152, 'inexperienced': 2307, 'neural': 2984, 'abortion': 5, 'backyard': 361, 'seize': 3919, 'uplift': 4719, 'stimulant': 4234, 'permit': 3262, 'organism': 3122, 'santa': 3854, 'bpd': 540, 'pastry': 3219, 'instal': 2350, 'chalk': 710, 'descend': 1204, 'sigh': 4013, 'tenning': 4438, 'spenning': 4169, 'miscarriage': 2855, 'condo': 918, 'landlord': 2531, 'nihilism': 3002, 'scarce': 3871, 'visa': 4801, 'bruh': 578, 'driveway': 1388, 'exponentially': 1643, 'ultrasound': 4643, 'brandon': 546, 'adorable': 90, 'collage': 840, 'orpheus': 3130, 'eurydice': 1570, 'hades': 2048, 'jewelry': 2451, 'synthesis': 4377, 'scarcity': 3872, 'giggle': 1944, 'temperature': 4428, 'trading': 4561, 'gallery': 1899, 'ikigai': 2234, 'chris': 767, 'ohk': 3089, 'premature': 3409, 'quirk': 3550, 'debug': 1139, 'karen': 2482, 'mba': 2767, 'sweden': 4364, 'coleman': 839, 'chick': 752, 'snuggle': 4093, 'jade': 2438, 'adoptive': 89, 'snore': 4090, 'dinosaur': 1265, 'tryptophan': 4612, 'bandcamp': 376, 'tommy': 4534}\n"
     ]
    }
   ],
   "source": [
    "#The below syntax to see the vocabulary that it has learned from the corpus\n",
    "\n",
    "print(Tfidf_vect.vocabulary_)\n"
   ]
  },
  {
   "cell_type": "markdown",
   "metadata": {},
   "source": [
    "# SVM "
   ]
  },
  {
   "cell_type": "code",
   "execution_count": 59,
   "metadata": {},
   "outputs": [
    {
     "name": "stdout",
     "output_type": "stream",
     "text": [
      "SVM Accuracy Score ->  0.8890608875128999\n"
     ]
    }
   ],
   "source": [
    "# Classifier - Algorithm - SVM\n",
    "#Instancier un SVM linéaire sur les données\n",
    "SVM = svm.SVC(C=1.0, kernel='linear', degree=3, gamma='auto')\n",
    "SVM.fit(Train_X_Tfidf,Train_Y)\n",
    "# predict the labels on validation dataset\n",
    "predictions_SVM = SVM.predict(Test_X_Tfidf)\n",
    "# Use accuracy_score function to get the accuracy\n",
    "print(\"SVM Accuracy Score -> \",accuracy_score(predictions_SVM, Test_Y))\n"
   ]
  },
  {
   "cell_type": "markdown",
   "metadata": {},
   "source": [
    "# Matrice de confusion"
   ]
  },
  {
   "cell_type": "code",
   "execution_count": 73,
   "metadata": {},
   "outputs": [],
   "source": [
    "# la matrice de confusion permet d'évaluer l’exactitude de la classification. \n",
    "\n",
    "from sklearn.metrics import confusion_matrix\n",
    "cm = confusion_matrix( Test_Y, \n",
    "                            SVM.predict(Test_X_Tfidf) \n",
    "                          )"
   ]
  },
  {
   "cell_type": "code",
   "execution_count": 72,
   "metadata": {},
   "outputs": [],
   "source": [
    "#pip install mlxtend\n"
   ]
  },
  {
   "cell_type": "code",
   "execution_count": 71,
   "metadata": {},
   "outputs": [
    {
     "data": {
      "image/png": "[encoded data removed]",
      "text/plain": [
       "<Figure size 432x288 with 1 Axes>"
      ]
     },
     "metadata": {
      "needs_background": "light"
     },
     "output_type": "display_data"
    }
   ],
   "source": [
    "import matplotlib.pyplot as plt\n",
    "from mlxtend.evaluate import confusion_matrix\n",
    "from mlxtend.plotting import plot_confusion_matrix\n",
    "\n",
    "fig, ax = plot_confusion_matrix(conf_mat=cm)\n",
    "plt.show()"
   ]
  },
  {
   "cell_type": "code",
   "execution_count": 28,
   "metadata": {},
   "outputs": [
    {
     "name": "stdout",
     "output_type": "stream",
     "text": [
      "[ 195  283  291 ... 4513 4514 4517]\n"
     ]
    }
   ],
   "source": [
    "support_vector_indices = SVM.support_\n",
    "print(support_vector_indices)"
   ]
  },
  {
   "cell_type": "code",
   "execution_count": 29,
   "metadata": {},
   "outputs": [
    {
     "name": "stdout",
     "output_type": "stream",
     "text": [
      "[  19  990 1042]\n"
     ]
    }
   ],
   "source": [
    "support_vectors_per_class = SVM.n_support_\n",
    "print(support_vectors_per_class)"
   ]
  },
  {
   "cell_type": "code",
   "execution_count": null,
   "metadata": {},
   "outputs": [],
   "source": []
  }
 ],
 "metadata": {
  "kernelspec": {
   "display_name": "Python 3",
   "language": "python",
   "name": "python3"
  },
  "language_info": {
   "codemirror_mode": {
    "name": "ipython",
    "version": 3
   },
   "file_extension": ".py",
   "mimetype": "text/x-python",
   "name": "python",
   "nbconvert_exporter": "python",
   "pygments_lexer": "ipython3",
   "version": "3.8.3"
  }
 },
 "nbformat": 4,
 "nbformat_minor": 4
}
